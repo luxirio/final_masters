{
 "cells": [
  {
   "cell_type": "markdown",
   "metadata": {},
   "source": [
    "# Import\n"
   ]
  },
  {
   "cell_type": "code",
   "execution_count": 1,
   "metadata": {},
   "outputs": [],
   "source": [
    "import pandas as pd\n",
    "import statsmodels.api as sm\n",
    "import numpy as np\n",
    "import matplotlib.pyplot as plt\n",
    "import seaborn as sns\n",
    "\n",
    "from time import perf_counter, gmtime, strftime\n",
    "from functions import remove_high_corr, scale_variables, best_params_grid,\\\n",
    "    calculate_confusion_matrix, plot_roc_auc_curve, bart_auc_scorer, make_label,get_error_and_auc\n",
    "\n",
    "from sklearn.linear_model import LogisticRegression\n",
    "from sklearn import tree\n",
    "from sklearn.tree import DecisionTreeClassifier\n",
    "from sklearn.ensemble import RandomForestClassifier, GradientBoostingClassifier\n",
    "from sklearn.svm import SVC\n",
    "\n",
    "from sklearn.model_selection import RepeatedKFold, train_test_split,\\\n",
    "    cross_val_score, GridSearchCV, RepeatedStratifiedKFold\n",
    "from sklearn.preprocessing import StandardScaler\n",
    "from sklearn.metrics import roc_curve, roc_auc_score, confusion_matrix, ConfusionMatrixDisplay,\\\n",
    "    make_scorer, balanced_accuracy_score, f1_score, matthews_corrcoef"
   ]
  },
  {
   "cell_type": "markdown",
   "metadata": {},
   "source": [
    "# Load data"
   ]
  },
  {
   "cell_type": "code",
   "execution_count": 2,
   "metadata": {},
   "outputs": [
    {
     "data": {
      "text/html": [
       "<div>\n",
       "<style scoped>\n",
       "    .dataframe tbody tr th:only-of-type {\n",
       "        vertical-align: middle;\n",
       "    }\n",
       "\n",
       "    .dataframe tbody tr th {\n",
       "        vertical-align: top;\n",
       "    }\n",
       "\n",
       "    .dataframe thead th {\n",
       "        text-align: right;\n",
       "    }\n",
       "</style>\n",
       "<table border=\"1\" class=\"dataframe\">\n",
       "  <thead>\n",
       "    <tr style=\"text-align: right;\">\n",
       "      <th></th>\n",
       "      <th>name</th>\n",
       "      <th>chembl_id</th>\n",
       "      <th>clean_smiles</th>\n",
       "      <th>first_approval_year</th>\n",
       "      <th>indication_class</th>\n",
       "      <th>molecule_type</th>\n",
       "      <th>withdrawn_flag</th>\n",
       "      <th>therapeutic_flag</th>\n",
       "      <th>polymer_flag</th>\n",
       "      <th>inorganic_flag</th>\n",
       "      <th>...</th>\n",
       "      <th>NumRings</th>\n",
       "      <th>NumAromaticRings</th>\n",
       "      <th>NumAliphaticRings</th>\n",
       "      <th>NumSaturatedRings</th>\n",
       "      <th>NumHeterocycles</th>\n",
       "      <th>NumAromaticHeterocycles</th>\n",
       "      <th>NumAliphaticHeterocycles</th>\n",
       "      <th>NumBridgeheadAtoms</th>\n",
       "      <th>NumAtomStereoCenters</th>\n",
       "      <th>CrippenClogP</th>\n",
       "    </tr>\n",
       "  </thead>\n",
       "  <tbody>\n",
       "    <tr>\n",
       "      <th>0</th>\n",
       "      <td>GUANIDINE HYDROCHLORIDE</td>\n",
       "      <td>CHEMBL1200728</td>\n",
       "      <td>N=C(N)N</td>\n",
       "      <td>1939</td>\n",
       "      <td>NaN</td>\n",
       "      <td>Small molecule</td>\n",
       "      <td>False</td>\n",
       "      <td>True</td>\n",
       "      <td>False</td>\n",
       "      <td>False</td>\n",
       "      <td>...</td>\n",
       "      <td>0.0</td>\n",
       "      <td>0.0</td>\n",
       "      <td>0.0</td>\n",
       "      <td>0.0</td>\n",
       "      <td>0.0</td>\n",
       "      <td>0.0</td>\n",
       "      <td>0.0</td>\n",
       "      <td>0.0</td>\n",
       "      <td>0.0</td>\n",
       "      <td>-1.16143</td>\n",
       "    </tr>\n",
       "    <tr>\n",
       "      <th>1</th>\n",
       "      <td>ACETOHYDROXAMIC ACID</td>\n",
       "      <td>CHEMBL734</td>\n",
       "      <td>CC(=O)NO</td>\n",
       "      <td>1983</td>\n",
       "      <td>Enzyme Inhibitor (urease)</td>\n",
       "      <td>Small molecule</td>\n",
       "      <td>False</td>\n",
       "      <td>True</td>\n",
       "      <td>False</td>\n",
       "      <td>False</td>\n",
       "      <td>...</td>\n",
       "      <td>0.0</td>\n",
       "      <td>0.0</td>\n",
       "      <td>0.0</td>\n",
       "      <td>0.0</td>\n",
       "      <td>0.0</td>\n",
       "      <td>0.0</td>\n",
       "      <td>0.0</td>\n",
       "      <td>0.0</td>\n",
       "      <td>0.0</td>\n",
       "      <td>-0.48830</td>\n",
       "    </tr>\n",
       "    <tr>\n",
       "      <th>2</th>\n",
       "      <td>HYDROXYUREA</td>\n",
       "      <td>CHEMBL467</td>\n",
       "      <td>NC(=O)NO</td>\n",
       "      <td>1967</td>\n",
       "      <td>Antineoplastic</td>\n",
       "      <td>Small molecule</td>\n",
       "      <td>False</td>\n",
       "      <td>True</td>\n",
       "      <td>False</td>\n",
       "      <td>False</td>\n",
       "      <td>...</td>\n",
       "      <td>0.0</td>\n",
       "      <td>0.0</td>\n",
       "      <td>0.0</td>\n",
       "      <td>0.0</td>\n",
       "      <td>0.0</td>\n",
       "      <td>0.0</td>\n",
       "      <td>0.0</td>\n",
       "      <td>0.0</td>\n",
       "      <td>0.0</td>\n",
       "      <td>-0.95610</td>\n",
       "    </tr>\n",
       "    <tr>\n",
       "      <th>3</th>\n",
       "      <td>CYSTEAMINE</td>\n",
       "      <td>CHEMBL602</td>\n",
       "      <td>NCCS</td>\n",
       "      <td>1994</td>\n",
       "      <td>CYSTEAMINE HYDROCHLORIDE</td>\n",
       "      <td>Small molecule</td>\n",
       "      <td>False</td>\n",
       "      <td>True</td>\n",
       "      <td>False</td>\n",
       "      <td>False</td>\n",
       "      <td>...</td>\n",
       "      <td>0.0</td>\n",
       "      <td>0.0</td>\n",
       "      <td>0.0</td>\n",
       "      <td>0.0</td>\n",
       "      <td>0.0</td>\n",
       "      <td>0.0</td>\n",
       "      <td>0.0</td>\n",
       "      <td>0.0</td>\n",
       "      <td>0.0</td>\n",
       "      <td>-0.12510</td>\n",
       "    </tr>\n",
       "    <tr>\n",
       "      <th>4</th>\n",
       "      <td>DIMETHYL SULFOXIDE</td>\n",
       "      <td>CHEMBL504</td>\n",
       "      <td>C[S+](C)[O-]</td>\n",
       "      <td>1978</td>\n",
       "      <td>Anti-Inflammatory (topical)</td>\n",
       "      <td>Small molecule</td>\n",
       "      <td>False</td>\n",
       "      <td>True</td>\n",
       "      <td>False</td>\n",
       "      <td>False</td>\n",
       "      <td>...</td>\n",
       "      <td>0.0</td>\n",
       "      <td>0.0</td>\n",
       "      <td>0.0</td>\n",
       "      <td>0.0</td>\n",
       "      <td>0.0</td>\n",
       "      <td>0.0</td>\n",
       "      <td>0.0</td>\n",
       "      <td>0.0</td>\n",
       "      <td>0.0</td>\n",
       "      <td>-0.00530</td>\n",
       "    </tr>\n",
       "  </tbody>\n",
       "</table>\n",
       "<p>5 rows × 30 columns</p>\n",
       "</div>"
      ],
      "text/plain": [
       "                      name      chembl_id  clean_smiles first_approval_year  \\\n",
       "0  GUANIDINE HYDROCHLORIDE  CHEMBL1200728       N=C(N)N                1939   \n",
       "1     ACETOHYDROXAMIC ACID      CHEMBL734      CC(=O)NO                1983   \n",
       "2              HYDROXYUREA      CHEMBL467      NC(=O)NO                1967   \n",
       "3               CYSTEAMINE      CHEMBL602          NCCS                1994   \n",
       "4       DIMETHYL SULFOXIDE      CHEMBL504  C[S+](C)[O-]                1978   \n",
       "\n",
       "              indication_class   molecule_type  withdrawn_flag  \\\n",
       "0                          NaN  Small molecule           False   \n",
       "1    Enzyme Inhibitor (urease)  Small molecule           False   \n",
       "2               Antineoplastic  Small molecule           False   \n",
       "3     CYSTEAMINE HYDROCHLORIDE  Small molecule           False   \n",
       "4  Anti-Inflammatory (topical)  Small molecule           False   \n",
       "\n",
       "   therapeutic_flag  polymer_flag  inorganic_flag  ...  NumRings  \\\n",
       "0              True         False           False  ...       0.0   \n",
       "1              True         False           False  ...       0.0   \n",
       "2              True         False           False  ...       0.0   \n",
       "3              True         False           False  ...       0.0   \n",
       "4              True         False           False  ...       0.0   \n",
       "\n",
       "   NumAromaticRings  NumAliphaticRings  NumSaturatedRings  NumHeterocycles  \\\n",
       "0               0.0                0.0                0.0              0.0   \n",
       "1               0.0                0.0                0.0              0.0   \n",
       "2               0.0                0.0                0.0              0.0   \n",
       "3               0.0                0.0                0.0              0.0   \n",
       "4               0.0                0.0                0.0              0.0   \n",
       "\n",
       "   NumAromaticHeterocycles  NumAliphaticHeterocycles  NumBridgeheadAtoms  \\\n",
       "0                      0.0                       0.0                 0.0   \n",
       "1                      0.0                       0.0                 0.0   \n",
       "2                      0.0                       0.0                 0.0   \n",
       "3                      0.0                       0.0                 0.0   \n",
       "4                      0.0                       0.0                 0.0   \n",
       "\n",
       "   NumAtomStereoCenters  CrippenClogP  \n",
       "0                   0.0      -1.16143  \n",
       "1                   0.0      -0.48830  \n",
       "2                   0.0      -0.95610  \n",
       "3                   0.0      -0.12510  \n",
       "4                   0.0      -0.00530  \n",
       "\n",
       "[5 rows x 30 columns]"
      ]
     },
     "execution_count": 2,
     "metadata": {},
     "output_type": "execute_result"
    }
   ],
   "source": [
    "data = pd.read_csv('/home/gustavo/github/mestrado/reworks/models/oral_vs_non_oral/data/fda_heuristics_preprocessed.csv')\n",
    "data.head()"
   ]
  },
  {
   "cell_type": "markdown",
   "metadata": {},
   "source": [
    "# Separating X and Y matrices, and test and train"
   ]
  },
  {
   "cell_type": "code",
   "execution_count": 3,
   "metadata": {},
   "outputs": [
    {
     "data": {
      "text/plain": [
       "0    0.0\n",
       "1    0.0\n",
       "2    0.0\n",
       "3    0.0\n",
       "4    0.0\n",
       "Name: natural_product_flag, dtype: float64"
      ]
     },
     "execution_count": 3,
     "metadata": {},
     "output_type": "execute_result"
    }
   ],
   "source": [
    "Y = data['natural_product_flag']\n",
    "Y = Y.astype(float)\n",
    "Y.head()"
   ]
  },
  {
   "cell_type": "code",
   "execution_count": 4,
   "metadata": {},
   "outputs": [
    {
     "data": {
      "text/plain": [
       "519.0"
      ]
     },
     "execution_count": 4,
     "metadata": {},
     "output_type": "execute_result"
    }
   ],
   "source": [
    "Y.sum() # we have 519 natural products, highly imbalanced data"
   ]
  },
  {
   "cell_type": "code",
   "execution_count": 5,
   "metadata": {},
   "outputs": [
    {
     "data": {
      "text/html": [
       "<div>\n",
       "<style scoped>\n",
       "    .dataframe tbody tr th:only-of-type {\n",
       "        vertical-align: middle;\n",
       "    }\n",
       "\n",
       "    .dataframe tbody tr th {\n",
       "        vertical-align: top;\n",
       "    }\n",
       "\n",
       "    .dataframe thead th {\n",
       "        text-align: right;\n",
       "    }\n",
       "</style>\n",
       "<table border=\"1\" class=\"dataframe\">\n",
       "  <thead>\n",
       "    <tr style=\"text-align: right;\">\n",
       "      <th></th>\n",
       "      <th>exactmw</th>\n",
       "      <th>lipinskiHBA</th>\n",
       "      <th>lipinskiHBD</th>\n",
       "      <th>NumRotatableBonds</th>\n",
       "      <th>NumAmideBonds</th>\n",
       "      <th>FractionCSP3</th>\n",
       "      <th>NumRings</th>\n",
       "      <th>NumAromaticRings</th>\n",
       "      <th>NumAliphaticRings</th>\n",
       "      <th>NumSaturatedRings</th>\n",
       "      <th>NumHeterocycles</th>\n",
       "      <th>NumAromaticHeterocycles</th>\n",
       "      <th>NumAliphaticHeterocycles</th>\n",
       "      <th>NumBridgeheadAtoms</th>\n",
       "      <th>NumAtomStereoCenters</th>\n",
       "      <th>CrippenClogP</th>\n",
       "    </tr>\n",
       "  </thead>\n",
       "  <tbody>\n",
       "    <tr>\n",
       "      <th>0</th>\n",
       "      <td>59.048347</td>\n",
       "      <td>3.0</td>\n",
       "      <td>5.0</td>\n",
       "      <td>0.0</td>\n",
       "      <td>0.0</td>\n",
       "      <td>0.0</td>\n",
       "      <td>0.0</td>\n",
       "      <td>0.0</td>\n",
       "      <td>0.0</td>\n",
       "      <td>0.0</td>\n",
       "      <td>0.0</td>\n",
       "      <td>0.0</td>\n",
       "      <td>0.0</td>\n",
       "      <td>0.0</td>\n",
       "      <td>0.0</td>\n",
       "      <td>-1.16143</td>\n",
       "    </tr>\n",
       "    <tr>\n",
       "      <th>1</th>\n",
       "      <td>75.032028</td>\n",
       "      <td>3.0</td>\n",
       "      <td>2.0</td>\n",
       "      <td>0.0</td>\n",
       "      <td>1.0</td>\n",
       "      <td>0.5</td>\n",
       "      <td>0.0</td>\n",
       "      <td>0.0</td>\n",
       "      <td>0.0</td>\n",
       "      <td>0.0</td>\n",
       "      <td>0.0</td>\n",
       "      <td>0.0</td>\n",
       "      <td>0.0</td>\n",
       "      <td>0.0</td>\n",
       "      <td>0.0</td>\n",
       "      <td>-0.48830</td>\n",
       "    </tr>\n",
       "    <tr>\n",
       "      <th>2</th>\n",
       "      <td>76.027277</td>\n",
       "      <td>4.0</td>\n",
       "      <td>4.0</td>\n",
       "      <td>0.0</td>\n",
       "      <td>2.0</td>\n",
       "      <td>0.0</td>\n",
       "      <td>0.0</td>\n",
       "      <td>0.0</td>\n",
       "      <td>0.0</td>\n",
       "      <td>0.0</td>\n",
       "      <td>0.0</td>\n",
       "      <td>0.0</td>\n",
       "      <td>0.0</td>\n",
       "      <td>0.0</td>\n",
       "      <td>0.0</td>\n",
       "      <td>-0.95610</td>\n",
       "    </tr>\n",
       "    <tr>\n",
       "      <th>3</th>\n",
       "      <td>77.029920</td>\n",
       "      <td>1.0</td>\n",
       "      <td>2.0</td>\n",
       "      <td>1.0</td>\n",
       "      <td>0.0</td>\n",
       "      <td>1.0</td>\n",
       "      <td>0.0</td>\n",
       "      <td>0.0</td>\n",
       "      <td>0.0</td>\n",
       "      <td>0.0</td>\n",
       "      <td>0.0</td>\n",
       "      <td>0.0</td>\n",
       "      <td>0.0</td>\n",
       "      <td>0.0</td>\n",
       "      <td>0.0</td>\n",
       "      <td>-0.12510</td>\n",
       "    </tr>\n",
       "    <tr>\n",
       "      <th>4</th>\n",
       "      <td>78.013936</td>\n",
       "      <td>1.0</td>\n",
       "      <td>0.0</td>\n",
       "      <td>0.0</td>\n",
       "      <td>0.0</td>\n",
       "      <td>1.0</td>\n",
       "      <td>0.0</td>\n",
       "      <td>0.0</td>\n",
       "      <td>0.0</td>\n",
       "      <td>0.0</td>\n",
       "      <td>0.0</td>\n",
       "      <td>0.0</td>\n",
       "      <td>0.0</td>\n",
       "      <td>0.0</td>\n",
       "      <td>0.0</td>\n",
       "      <td>-0.00530</td>\n",
       "    </tr>\n",
       "  </tbody>\n",
       "</table>\n",
       "</div>"
      ],
      "text/plain": [
       "     exactmw  lipinskiHBA  lipinskiHBD  NumRotatableBonds  NumAmideBonds  \\\n",
       "0  59.048347          3.0          5.0                0.0            0.0   \n",
       "1  75.032028          3.0          2.0                0.0            1.0   \n",
       "2  76.027277          4.0          4.0                0.0            2.0   \n",
       "3  77.029920          1.0          2.0                1.0            0.0   \n",
       "4  78.013936          1.0          0.0                0.0            0.0   \n",
       "\n",
       "   FractionCSP3  NumRings  NumAromaticRings  NumAliphaticRings  \\\n",
       "0           0.0       0.0               0.0                0.0   \n",
       "1           0.5       0.0               0.0                0.0   \n",
       "2           0.0       0.0               0.0                0.0   \n",
       "3           1.0       0.0               0.0                0.0   \n",
       "4           1.0       0.0               0.0                0.0   \n",
       "\n",
       "   NumSaturatedRings  NumHeterocycles  NumAromaticHeterocycles  \\\n",
       "0                0.0              0.0                      0.0   \n",
       "1                0.0              0.0                      0.0   \n",
       "2                0.0              0.0                      0.0   \n",
       "3                0.0              0.0                      0.0   \n",
       "4                0.0              0.0                      0.0   \n",
       "\n",
       "   NumAliphaticHeterocycles  NumBridgeheadAtoms  NumAtomStereoCenters  \\\n",
       "0                       0.0                 0.0                   0.0   \n",
       "1                       0.0                 0.0                   0.0   \n",
       "2                       0.0                 0.0                   0.0   \n",
       "3                       0.0                 0.0                   0.0   \n",
       "4                       0.0                 0.0                   0.0   \n",
       "\n",
       "   CrippenClogP  \n",
       "0      -1.16143  \n",
       "1      -0.48830  \n",
       "2      -0.95610  \n",
       "3      -0.12510  \n",
       "4      -0.00530  "
      ]
     },
     "execution_count": 5,
     "metadata": {},
     "output_type": "execute_result"
    }
   ],
   "source": [
    "X = data.iloc[:,14:]\n",
    "X.head()"
   ]
  },
  {
   "cell_type": "code",
   "execution_count": 6,
   "metadata": {},
   "outputs": [],
   "source": [
    "np.random.seed(6752)\n",
    "x_train, x_test, y_train, y_test = train_test_split(X, Y, stratify=Y, test_size=0.25)"
   ]
  },
  {
   "cell_type": "markdown",
   "metadata": {},
   "source": [
    "# Scaling datasets"
   ]
  },
  {
   "cell_type": "code",
   "execution_count": 7,
   "metadata": {},
   "outputs": [
    {
     "data": {
      "text/html": [
       "<div>\n",
       "<style scoped>\n",
       "    .dataframe tbody tr th:only-of-type {\n",
       "        vertical-align: middle;\n",
       "    }\n",
       "\n",
       "    .dataframe tbody tr th {\n",
       "        vertical-align: top;\n",
       "    }\n",
       "\n",
       "    .dataframe thead th {\n",
       "        text-align: right;\n",
       "    }\n",
       "</style>\n",
       "<table border=\"1\" class=\"dataframe\">\n",
       "  <thead>\n",
       "    <tr style=\"text-align: right;\">\n",
       "      <th></th>\n",
       "      <th>const</th>\n",
       "      <th>exactmw</th>\n",
       "      <th>lipinskiHBA</th>\n",
       "      <th>lipinskiHBD</th>\n",
       "      <th>NumRotatableBonds</th>\n",
       "      <th>NumAmideBonds</th>\n",
       "      <th>FractionCSP3</th>\n",
       "      <th>NumRings</th>\n",
       "      <th>NumAromaticRings</th>\n",
       "      <th>NumAliphaticRings</th>\n",
       "      <th>NumSaturatedRings</th>\n",
       "      <th>NumHeterocycles</th>\n",
       "      <th>NumAromaticHeterocycles</th>\n",
       "      <th>NumAliphaticHeterocycles</th>\n",
       "      <th>NumBridgeheadAtoms</th>\n",
       "      <th>NumAtomStereoCenters</th>\n",
       "      <th>CrippenClogP</th>\n",
       "    </tr>\n",
       "  </thead>\n",
       "  <tbody>\n",
       "    <tr>\n",
       "      <th>0</th>\n",
       "      <td>1.0</td>\n",
       "      <td>1.612176</td>\n",
       "      <td>0.225109</td>\n",
       "      <td>-0.929855</td>\n",
       "      <td>2.879532</td>\n",
       "      <td>0.344139</td>\n",
       "      <td>0.635140</td>\n",
       "      <td>0.543384</td>\n",
       "      <td>0.300554</td>\n",
       "      <td>0.360539</td>\n",
       "      <td>0.008794</td>\n",
       "      <td>0.496879</td>\n",
       "      <td>-0.686401</td>\n",
       "      <td>1.132139</td>\n",
       "      <td>-0.230475</td>\n",
       "      <td>-0.668076</td>\n",
       "      <td>2.577526</td>\n",
       "    </tr>\n",
       "    <tr>\n",
       "      <th>1</th>\n",
       "      <td>1.0</td>\n",
       "      <td>-0.508300</td>\n",
       "      <td>-1.002364</td>\n",
       "      <td>-0.509720</td>\n",
       "      <td>-0.072563</td>\n",
       "      <td>-0.522921</td>\n",
       "      <td>-0.636245</td>\n",
       "      <td>-0.616869</td>\n",
       "      <td>0.300554</td>\n",
       "      <td>-0.918678</td>\n",
       "      <td>-0.772179</td>\n",
       "      <td>-1.029747</td>\n",
       "      <td>-0.686401</td>\n",
       "      <td>-0.762760</td>\n",
       "      <td>-0.230475</td>\n",
       "      <td>-0.382132</td>\n",
       "      <td>0.370573</td>\n",
       "    </tr>\n",
       "    <tr>\n",
       "      <th>2</th>\n",
       "      <td>1.0</td>\n",
       "      <td>-0.342520</td>\n",
       "      <td>-0.511375</td>\n",
       "      <td>-0.509720</td>\n",
       "      <td>-0.072563</td>\n",
       "      <td>-0.522921</td>\n",
       "      <td>-1.108099</td>\n",
       "      <td>-0.616869</td>\n",
       "      <td>0.300554</td>\n",
       "      <td>-0.918678</td>\n",
       "      <td>-0.772179</td>\n",
       "      <td>-1.029747</td>\n",
       "      <td>-0.686401</td>\n",
       "      <td>-0.762760</td>\n",
       "      <td>-0.230475</td>\n",
       "      <td>-0.668076</td>\n",
       "      <td>0.492929</td>\n",
       "    </tr>\n",
       "    <tr>\n",
       "      <th>3</th>\n",
       "      <td>1.0</td>\n",
       "      <td>0.660965</td>\n",
       "      <td>0.470603</td>\n",
       "      <td>-0.089585</td>\n",
       "      <td>0.349165</td>\n",
       "      <td>0.344139</td>\n",
       "      <td>-0.847765</td>\n",
       "      <td>1.123510</td>\n",
       "      <td>1.912207</td>\n",
       "      <td>-0.279069</td>\n",
       "      <td>0.008794</td>\n",
       "      <td>1.260191</td>\n",
       "      <td>1.837211</td>\n",
       "      <td>0.184689</td>\n",
       "      <td>-0.230475</td>\n",
       "      <td>-0.668076</td>\n",
       "      <td>0.826180</td>\n",
       "    </tr>\n",
       "    <tr>\n",
       "      <th>4</th>\n",
       "      <td>1.0</td>\n",
       "      <td>-0.038744</td>\n",
       "      <td>0.470603</td>\n",
       "      <td>-0.089585</td>\n",
       "      <td>-0.072563</td>\n",
       "      <td>-0.522921</td>\n",
       "      <td>-0.760417</td>\n",
       "      <td>-0.036743</td>\n",
       "      <td>1.106381</td>\n",
       "      <td>-0.918678</td>\n",
       "      <td>-0.772179</td>\n",
       "      <td>0.496879</td>\n",
       "      <td>1.837211</td>\n",
       "      <td>-0.762760</td>\n",
       "      <td>-0.230475</td>\n",
       "      <td>-0.668076</td>\n",
       "      <td>-0.079966</td>\n",
       "    </tr>\n",
       "  </tbody>\n",
       "</table>\n",
       "</div>"
      ],
      "text/plain": [
       "   const   exactmw  lipinskiHBA  lipinskiHBD  NumRotatableBonds  \\\n",
       "0    1.0  1.612176     0.225109    -0.929855           2.879532   \n",
       "1    1.0 -0.508300    -1.002364    -0.509720          -0.072563   \n",
       "2    1.0 -0.342520    -0.511375    -0.509720          -0.072563   \n",
       "3    1.0  0.660965     0.470603    -0.089585           0.349165   \n",
       "4    1.0 -0.038744     0.470603    -0.089585          -0.072563   \n",
       "\n",
       "   NumAmideBonds  FractionCSP3  NumRings  NumAromaticRings  NumAliphaticRings  \\\n",
       "0       0.344139      0.635140  0.543384          0.300554           0.360539   \n",
       "1      -0.522921     -0.636245 -0.616869          0.300554          -0.918678   \n",
       "2      -0.522921     -1.108099 -0.616869          0.300554          -0.918678   \n",
       "3       0.344139     -0.847765  1.123510          1.912207          -0.279069   \n",
       "4      -0.522921     -0.760417 -0.036743          1.106381          -0.918678   \n",
       "\n",
       "   NumSaturatedRings  NumHeterocycles  NumAromaticHeterocycles  \\\n",
       "0           0.008794         0.496879                -0.686401   \n",
       "1          -0.772179        -1.029747                -0.686401   \n",
       "2          -0.772179        -1.029747                -0.686401   \n",
       "3           0.008794         1.260191                 1.837211   \n",
       "4          -0.772179         0.496879                 1.837211   \n",
       "\n",
       "   NumAliphaticHeterocycles  NumBridgeheadAtoms  NumAtomStereoCenters  \\\n",
       "0                  1.132139           -0.230475             -0.668076   \n",
       "1                 -0.762760           -0.230475             -0.382132   \n",
       "2                 -0.762760           -0.230475             -0.668076   \n",
       "3                  0.184689           -0.230475             -0.668076   \n",
       "4                 -0.762760           -0.230475             -0.668076   \n",
       "\n",
       "   CrippenClogP  \n",
       "0      2.577526  \n",
       "1      0.370573  \n",
       "2      0.492929  \n",
       "3      0.826180  \n",
       "4     -0.079966  "
      ]
     },
     "execution_count": 7,
     "metadata": {},
     "output_type": "execute_result"
    }
   ],
   "source": [
    "# Train\n",
    "x_train_scaled = scale_variables(x_train)\n",
    "# Adding a constant to represent the intercept\n",
    "x_train_scaled = sm.add_constant(x_train_scaled)\n",
    "x_train_scaled.head()"
   ]
  },
  {
   "cell_type": "code",
   "execution_count": 8,
   "metadata": {},
   "outputs": [
    {
     "name": "stdout",
     "output_type": "stream",
     "text": [
      "(474, 17)\n"
     ]
    },
    {
     "data": {
      "text/html": [
       "<div>\n",
       "<style scoped>\n",
       "    .dataframe tbody tr th:only-of-type {\n",
       "        vertical-align: middle;\n",
       "    }\n",
       "\n",
       "    .dataframe tbody tr th {\n",
       "        vertical-align: top;\n",
       "    }\n",
       "\n",
       "    .dataframe thead th {\n",
       "        text-align: right;\n",
       "    }\n",
       "</style>\n",
       "<table border=\"1\" class=\"dataframe\">\n",
       "  <thead>\n",
       "    <tr style=\"text-align: right;\">\n",
       "      <th></th>\n",
       "      <th>const</th>\n",
       "      <th>exactmw</th>\n",
       "      <th>lipinskiHBA</th>\n",
       "      <th>lipinskiHBD</th>\n",
       "      <th>NumRotatableBonds</th>\n",
       "      <th>NumAmideBonds</th>\n",
       "      <th>FractionCSP3</th>\n",
       "      <th>NumRings</th>\n",
       "      <th>NumAromaticRings</th>\n",
       "      <th>NumAliphaticRings</th>\n",
       "      <th>NumSaturatedRings</th>\n",
       "      <th>NumHeterocycles</th>\n",
       "      <th>NumAromaticHeterocycles</th>\n",
       "      <th>NumAliphaticHeterocycles</th>\n",
       "      <th>NumBridgeheadAtoms</th>\n",
       "      <th>NumAtomStereoCenters</th>\n",
       "      <th>CrippenClogP</th>\n",
       "    </tr>\n",
       "  </thead>\n",
       "  <tbody>\n",
       "    <tr>\n",
       "      <th>0</th>\n",
       "      <td>1.0</td>\n",
       "      <td>0.032403</td>\n",
       "      <td>0.262530</td>\n",
       "      <td>-0.084618</td>\n",
       "      <td>-0.581759</td>\n",
       "      <td>1.337395</td>\n",
       "      <td>0.044396</td>\n",
       "      <td>0.584287</td>\n",
       "      <td>1.199942</td>\n",
       "      <td>-0.259779</td>\n",
       "      <td>0.014663</td>\n",
       "      <td>2.012469</td>\n",
       "      <td>3.261012</td>\n",
       "      <td>0.171856</td>\n",
       "      <td>-0.209684</td>\n",
       "      <td>-0.096415</td>\n",
       "      <td>0.098017</td>\n",
       "    </tr>\n",
       "    <tr>\n",
       "      <th>1</th>\n",
       "      <td>1.0</td>\n",
       "      <td>-0.800081</td>\n",
       "      <td>-0.502466</td>\n",
       "      <td>-0.493894</td>\n",
       "      <td>-0.079932</td>\n",
       "      <td>-0.532591</td>\n",
       "      <td>0.323728</td>\n",
       "      <td>-0.574509</td>\n",
       "      <td>-0.487810</td>\n",
       "      <td>-0.259779</td>\n",
       "      <td>0.014663</td>\n",
       "      <td>-0.223258</td>\n",
       "      <td>-0.639038</td>\n",
       "      <td>0.171856</td>\n",
       "      <td>-0.209684</td>\n",
       "      <td>-0.371721</td>\n",
       "      <td>-0.605857</td>\n",
       "    </tr>\n",
       "    <tr>\n",
       "      <th>2</th>\n",
       "      <td>1.0</td>\n",
       "      <td>0.236119</td>\n",
       "      <td>0.517529</td>\n",
       "      <td>-0.084618</td>\n",
       "      <td>-0.079932</td>\n",
       "      <td>-0.532591</td>\n",
       "      <td>-1.331101</td>\n",
       "      <td>1.163685</td>\n",
       "      <td>2.887694</td>\n",
       "      <td>-0.888020</td>\n",
       "      <td>-0.757577</td>\n",
       "      <td>1.267227</td>\n",
       "      <td>3.261012</td>\n",
       "      <td>-0.723305</td>\n",
       "      <td>-0.209684</td>\n",
       "      <td>-0.371721</td>\n",
       "      <td>0.507360</td>\n",
       "    </tr>\n",
       "    <tr>\n",
       "      <th>3</th>\n",
       "      <td>1.0</td>\n",
       "      <td>-0.038052</td>\n",
       "      <td>0.517529</td>\n",
       "      <td>-0.493894</td>\n",
       "      <td>-0.581759</td>\n",
       "      <td>-0.532591</td>\n",
       "      <td>-1.459095</td>\n",
       "      <td>0.004889</td>\n",
       "      <td>0.356066</td>\n",
       "      <td>-0.259779</td>\n",
       "      <td>-0.757577</td>\n",
       "      <td>-0.968501</td>\n",
       "      <td>-0.639038</td>\n",
       "      <td>-0.723305</td>\n",
       "      <td>-0.209684</td>\n",
       "      <td>-0.647026</td>\n",
       "      <td>-0.335847</td>\n",
       "    </tr>\n",
       "    <tr>\n",
       "      <th>4</th>\n",
       "      <td>1.0</td>\n",
       "      <td>0.347031</td>\n",
       "      <td>0.007532</td>\n",
       "      <td>-0.084618</td>\n",
       "      <td>-0.581759</td>\n",
       "      <td>-0.532591</td>\n",
       "      <td>1.022834</td>\n",
       "      <td>0.584287</td>\n",
       "      <td>-1.331686</td>\n",
       "      <td>1.624943</td>\n",
       "      <td>1.559143</td>\n",
       "      <td>-0.968501</td>\n",
       "      <td>-0.639038</td>\n",
       "      <td>-0.723305</td>\n",
       "      <td>-0.209684</td>\n",
       "      <td>1.555418</td>\n",
       "      <td>-0.115457</td>\n",
       "    </tr>\n",
       "  </tbody>\n",
       "</table>\n",
       "</div>"
      ],
      "text/plain": [
       "   const   exactmw  lipinskiHBA  lipinskiHBD  NumRotatableBonds  \\\n",
       "0    1.0  0.032403     0.262530    -0.084618          -0.581759   \n",
       "1    1.0 -0.800081    -0.502466    -0.493894          -0.079932   \n",
       "2    1.0  0.236119     0.517529    -0.084618          -0.079932   \n",
       "3    1.0 -0.038052     0.517529    -0.493894          -0.581759   \n",
       "4    1.0  0.347031     0.007532    -0.084618          -0.581759   \n",
       "\n",
       "   NumAmideBonds  FractionCSP3  NumRings  NumAromaticRings  NumAliphaticRings  \\\n",
       "0       1.337395      0.044396  0.584287          1.199942          -0.259779   \n",
       "1      -0.532591      0.323728 -0.574509         -0.487810          -0.259779   \n",
       "2      -0.532591     -1.331101  1.163685          2.887694          -0.888020   \n",
       "3      -0.532591     -1.459095  0.004889          0.356066          -0.259779   \n",
       "4      -0.532591      1.022834  0.584287         -1.331686           1.624943   \n",
       "\n",
       "   NumSaturatedRings  NumHeterocycles  NumAromaticHeterocycles  \\\n",
       "0           0.014663         2.012469                 3.261012   \n",
       "1           0.014663        -0.223258                -0.639038   \n",
       "2          -0.757577         1.267227                 3.261012   \n",
       "3          -0.757577        -0.968501                -0.639038   \n",
       "4           1.559143        -0.968501                -0.639038   \n",
       "\n",
       "   NumAliphaticHeterocycles  NumBridgeheadAtoms  NumAtomStereoCenters  \\\n",
       "0                  0.171856           -0.209684             -0.096415   \n",
       "1                  0.171856           -0.209684             -0.371721   \n",
       "2                 -0.723305           -0.209684             -0.371721   \n",
       "3                 -0.723305           -0.209684             -0.647026   \n",
       "4                 -0.723305           -0.209684              1.555418   \n",
       "\n",
       "   CrippenClogP  \n",
       "0      0.098017  \n",
       "1     -0.605857  \n",
       "2      0.507360  \n",
       "3     -0.335847  \n",
       "4     -0.115457  "
      ]
     },
     "execution_count": 8,
     "metadata": {},
     "output_type": "execute_result"
    }
   ],
   "source": [
    "# Test\n",
    "x_test_scaled = scale_variables(x_test)\n",
    "x_test_scaled = sm.add_constant(x_test_scaled)\n",
    "print(x_test_scaled.shape)\n",
    "x_test_scaled.head()"
   ]
  },
  {
   "cell_type": "code",
   "execution_count": 9,
   "metadata": {},
   "outputs": [],
   "source": [
    "# Dataframe to store final results from every model\n",
    "final_results = pd.DataFrame(\n",
    "    columns=[\n",
    "        \"model_name\",\n",
    "        'cv_test_auc',\n",
    "        'training_mis_rate',\n",
    "        'test_mis_rate',\n",
    "        'training_auc',\n",
    "        'test_auc',\n",
    "        'balanced_acc_test',\n",
    "        'mcc_train',\n",
    "        'mcc_tets'\n",
    "    ]\n",
    ")"
   ]
  },
  {
   "cell_type": "markdown",
   "metadata": {},
   "source": [
    "# Logit"
   ]
  },
  {
   "cell_type": "markdown",
   "metadata": {},
   "source": [
    "## CV"
   ]
  },
  {
   "cell_type": "code",
   "execution_count": 10,
   "metadata": {},
   "outputs": [],
   "source": [
    "model_params_lr = {\n",
    "    'Logistic Regression': {\n",
    "        'model': LogisticRegression(max_iter=500),\n",
    "        'params': {}\n",
    "    }\n",
    "}"
   ]
  },
  {
   "cell_type": "code",
   "execution_count": 11,
   "metadata": {},
   "outputs": [
    {
     "name": "stdout",
     "output_type": "stream",
     "text": [
      "Starting Grid Search for Logistic Regression: 18:15\n",
      "Finished Grid Search for Logistic Regression: 18:15\n",
      "Tempo de execução:  0.0 minutos\n"
     ]
    },
    {
     "data": {
      "text/html": [
       "<div>\n",
       "<style scoped>\n",
       "    .dataframe tbody tr th:only-of-type {\n",
       "        vertical-align: middle;\n",
       "    }\n",
       "\n",
       "    .dataframe tbody tr th {\n",
       "        vertical-align: top;\n",
       "    }\n",
       "\n",
       "    .dataframe thead th {\n",
       "        text-align: right;\n",
       "    }\n",
       "</style>\n",
       "<table border=\"1\" class=\"dataframe\">\n",
       "  <thead>\n",
       "    <tr style=\"text-align: right;\">\n",
       "      <th></th>\n",
       "      <th>model</th>\n",
       "      <th>best_score</th>\n",
       "      <th>best_params</th>\n",
       "    </tr>\n",
       "  </thead>\n",
       "  <tbody>\n",
       "    <tr>\n",
       "      <th>0</th>\n",
       "      <td>Logistic Regression</td>\n",
       "      <td>0.952552</td>\n",
       "      <td>{}</td>\n",
       "    </tr>\n",
       "  </tbody>\n",
       "</table>\n",
       "</div>"
      ],
      "text/plain": [
       "                 model  best_score best_params\n",
       "0  Logistic Regression    0.952552          {}"
      ]
     },
     "execution_count": 11,
     "metadata": {},
     "output_type": "execute_result"
    }
   ],
   "source": [
    "gs_results_lr, gs_results_lr_full = best_params_grid(x_train_scaled, y_train, model_params_lr)\n",
    "gs_results_lr"
   ]
  },
  {
   "cell_type": "markdown",
   "metadata": {},
   "source": [
    "## Fitting logitstic"
   ]
  },
  {
   "cell_type": "code",
   "execution_count": 12,
   "metadata": {},
   "outputs": [
    {
     "name": "stdout",
     "output_type": "stream",
     "text": [
      "{}\n"
     ]
    }
   ],
   "source": [
    "lr_params = gs_results_lr.iloc[0,2]\n",
    "print(lr_params)\n",
    "logistic = LogisticRegression(**lr_params, max_iter=500).fit(x_train_scaled, y_train)"
   ]
  },
  {
   "cell_type": "markdown",
   "metadata": {},
   "source": [
    "## Get Training Error and AUC\n"
   ]
  },
  {
   "cell_type": "code",
   "execution_count": 13,
   "metadata": {},
   "outputs": [
    {
     "name": "stdout",
     "output_type": "stream",
     "text": [
      "Training Misclassification Rate: 0.0753\n",
      "Training AUC: 0.8913\n"
     ]
    }
   ],
   "source": [
    "mis_rate_lr_train, auc_lr_train = get_error_and_auc(\n",
    "    model=logistic,\n",
    "    x=x_train_scaled,\n",
    "    y_true=y_train\n",
    ")"
   ]
  },
  {
   "cell_type": "markdown",
   "metadata": {},
   "source": [
    "## Predictions\n"
   ]
  },
  {
   "cell_type": "code",
   "execution_count": 14,
   "metadata": {},
   "outputs": [],
   "source": [
    "y_predict_lr_label = logistic.predict(x_test_scaled)\n",
    "y_predict_lr_prob = logistic.predict_proba(x_test_scaled)[:,1]"
   ]
  },
  {
   "cell_type": "markdown",
   "metadata": {},
   "source": [
    "## Test error and ROC\n"
   ]
  },
  {
   "cell_type": "code",
   "execution_count": 15,
   "metadata": {},
   "outputs": [
    {
     "name": "stdout",
     "output_type": "stream",
     "text": [
      "Misclassification rate: 0.0928\n"
     ]
    }
   ],
   "source": [
    "mis_rate_lr, disp = calculate_confusion_matrix(\n",
    "    y_test=y_test,\n",
    "    y_pred=y_predict_lr_label\n",
    ")"
   ]
  },
  {
   "cell_type": "code",
   "execution_count": 16,
   "metadata": {},
   "outputs": [
    {
     "data": {
      "text/plain": [
       "Text(0.5, 1.0, 'CM: Logit\\n Natural vs Synthetic')"
      ]
     },
     "execution_count": 16,
     "metadata": {},
     "output_type": "execute_result"
    },
    {
     "data": {
      "image/png": "[encoded data removed]",
      "text/plain": [
       "<Figure size 640x480 with 2 Axes>"
      ]
     },
     "metadata": {},
     "output_type": "display_data"
    }
   ],
   "source": [
    "disp.plot()\n",
    "plt.title(f\"CM: Logit\\n Natural vs Synthetic\")"
   ]
  },
  {
   "cell_type": "markdown",
   "metadata": {},
   "source": [
    "## AUC ROC\n"
   ]
  },
  {
   "cell_type": "code",
   "execution_count": 17,
   "metadata": {},
   "outputs": [
    {
     "data": {
      "image/png": "[encoded data removed]",
      "text/plain": [
       "<Figure size 1000x800 with 1 Axes>"
      ]
     },
     "metadata": {},
     "output_type": "display_data"
    }
   ],
   "source": [
    "auc_lr = plot_roc_auc_curve(\n",
    "    y_test=y_test,\n",
    "    y_pred=y_predict_lr_prob,\n",
    "    model_name='Logit',\n",
    "    title=f'ROC, Heuristics',\n",
    "    save_path=f'/home/gustavo/github/mestrado/reworks/imgs/logit_heuristics_total.png'\n",
    ")"
   ]
  },
  {
   "cell_type": "markdown",
   "metadata": {},
   "source": [
    "## Feature Importance"
   ]
  },
  {
   "cell_type": "code",
   "execution_count": 18,
   "metadata": {},
   "outputs": [
    {
     "data": {
      "text/html": [
       "<div>\n",
       "<style scoped>\n",
       "    .dataframe tbody tr th:only-of-type {\n",
       "        vertical-align: middle;\n",
       "    }\n",
       "\n",
       "    .dataframe tbody tr th {\n",
       "        vertical-align: top;\n",
       "    }\n",
       "\n",
       "    .dataframe thead th {\n",
       "        text-align: right;\n",
       "    }\n",
       "</style>\n",
       "<table border=\"1\" class=\"dataframe\">\n",
       "  <thead>\n",
       "    <tr style=\"text-align: right;\">\n",
       "      <th></th>\n",
       "      <th>coef</th>\n",
       "      <th>name</th>\n",
       "    </tr>\n",
       "  </thead>\n",
       "  <tbody>\n",
       "    <tr>\n",
       "      <th>0</th>\n",
       "      <td>-0.000046</td>\n",
       "      <td>const</td>\n",
       "    </tr>\n",
       "    <tr>\n",
       "      <th>1</th>\n",
       "      <td>0.262297</td>\n",
       "      <td>exactmw</td>\n",
       "    </tr>\n",
       "    <tr>\n",
       "      <th>2</th>\n",
       "      <td>0.864998</td>\n",
       "      <td>lipinskiHBA</td>\n",
       "    </tr>\n",
       "    <tr>\n",
       "      <th>3</th>\n",
       "      <td>0.197703</td>\n",
       "      <td>lipinskiHBD</td>\n",
       "    </tr>\n",
       "    <tr>\n",
       "      <th>4</th>\n",
       "      <td>-0.563009</td>\n",
       "      <td>NumRotatableBonds</td>\n",
       "    </tr>\n",
       "    <tr>\n",
       "      <th>5</th>\n",
       "      <td>-0.455431</td>\n",
       "      <td>NumAmideBonds</td>\n",
       "    </tr>\n",
       "    <tr>\n",
       "      <th>6</th>\n",
       "      <td>-0.394053</td>\n",
       "      <td>FractionCSP3</td>\n",
       "    </tr>\n",
       "    <tr>\n",
       "      <th>7</th>\n",
       "      <td>0.079218</td>\n",
       "      <td>NumRings</td>\n",
       "    </tr>\n",
       "    <tr>\n",
       "      <th>8</th>\n",
       "      <td>-1.584897</td>\n",
       "      <td>NumAromaticRings</td>\n",
       "    </tr>\n",
       "    <tr>\n",
       "      <th>9</th>\n",
       "      <td>1.345320</td>\n",
       "      <td>NumAliphaticRings</td>\n",
       "    </tr>\n",
       "    <tr>\n",
       "      <th>10</th>\n",
       "      <td>-1.039302</td>\n",
       "      <td>NumSaturatedRings</td>\n",
       "    </tr>\n",
       "    <tr>\n",
       "      <th>11</th>\n",
       "      <td>0.285682</td>\n",
       "      <td>NumHeterocycles</td>\n",
       "    </tr>\n",
       "    <tr>\n",
       "      <th>12</th>\n",
       "      <td>0.727248</td>\n",
       "      <td>NumAromaticHeterocycles</td>\n",
       "    </tr>\n",
       "    <tr>\n",
       "      <th>13</th>\n",
       "      <td>-0.191469</td>\n",
       "      <td>NumAliphaticHeterocycles</td>\n",
       "    </tr>\n",
       "    <tr>\n",
       "      <th>14</th>\n",
       "      <td>-0.252905</td>\n",
       "      <td>NumBridgeheadAtoms</td>\n",
       "    </tr>\n",
       "    <tr>\n",
       "      <th>15</th>\n",
       "      <td>2.736354</td>\n",
       "      <td>NumAtomStereoCenters</td>\n",
       "    </tr>\n",
       "    <tr>\n",
       "      <th>16</th>\n",
       "      <td>0.020899</td>\n",
       "      <td>CrippenClogP</td>\n",
       "    </tr>\n",
       "  </tbody>\n",
       "</table>\n",
       "</div>"
      ],
      "text/plain": [
       "        coef                      name\n",
       "0  -0.000046                     const\n",
       "1   0.262297                   exactmw\n",
       "2   0.864998               lipinskiHBA\n",
       "3   0.197703               lipinskiHBD\n",
       "4  -0.563009         NumRotatableBonds\n",
       "5  -0.455431             NumAmideBonds\n",
       "6  -0.394053              FractionCSP3\n",
       "7   0.079218                  NumRings\n",
       "8  -1.584897          NumAromaticRings\n",
       "9   1.345320         NumAliphaticRings\n",
       "10 -1.039302         NumSaturatedRings\n",
       "11  0.285682           NumHeterocycles\n",
       "12  0.727248   NumAromaticHeterocycles\n",
       "13 -0.191469  NumAliphaticHeterocycles\n",
       "14 -0.252905        NumBridgeheadAtoms\n",
       "15  2.736354      NumAtomStereoCenters\n",
       "16  0.020899              CrippenClogP"
      ]
     },
     "execution_count": 18,
     "metadata": {},
     "output_type": "execute_result"
    }
   ],
   "source": [
    "pd.DataFrame({'coef': logistic.coef_[0], 'name': x_train_scaled.columns.to_list()})"
   ]
  },
  {
   "cell_type": "markdown",
   "metadata": {},
   "source": [
    "## Results"
   ]
  },
  {
   "cell_type": "code",
   "execution_count": 19,
   "metadata": {},
   "outputs": [
    {
     "name": "stdout",
     "output_type": "stream",
     "text": [
      "Balanced acc test set: 0.8523032200357781      MCC train set for logit: 0.8068057536935461, MCC test set for logit: 0.7595912862917545\n"
     ]
    }
   ],
   "source": [
    "balanced_acc_test_lr = balanced_accuracy_score(y_test, y_predict_lr_label)\n",
    "mcc_test_lr = matthews_corrcoef(y_test, y_predict_lr_label)\n",
    "mcc_train_lr = matthews_corrcoef(y_train, logistic.predict(x_train_scaled))\n",
    "print(f\"Balanced acc test set: {balanced_acc_test_lr}\\\n",
    "      MCC train set for logit: {mcc_train_lr}, MCC test set for logit: {mcc_test_lr}\")"
   ]
  },
  {
   "cell_type": "code",
   "execution_count": 20,
   "metadata": {},
   "outputs": [
    {
     "data": {
      "text/html": [
       "<div>\n",
       "<style scoped>\n",
       "    .dataframe tbody tr th:only-of-type {\n",
       "        vertical-align: middle;\n",
       "    }\n",
       "\n",
       "    .dataframe tbody tr th {\n",
       "        vertical-align: top;\n",
       "    }\n",
       "\n",
       "    .dataframe thead th {\n",
       "        text-align: right;\n",
       "    }\n",
       "</style>\n",
       "<table border=\"1\" class=\"dataframe\">\n",
       "  <thead>\n",
       "    <tr style=\"text-align: right;\">\n",
       "      <th></th>\n",
       "      <th>model_name</th>\n",
       "      <th>cv_test_auc</th>\n",
       "      <th>training_mis_rate</th>\n",
       "      <th>test_mis_rate</th>\n",
       "      <th>training_auc</th>\n",
       "      <th>test_auc</th>\n",
       "      <th>balanced_acc_test</th>\n",
       "      <th>mcc_train</th>\n",
       "      <th>mcc_tets</th>\n",
       "    </tr>\n",
       "  </thead>\n",
       "  <tbody>\n",
       "    <tr>\n",
       "      <th>0</th>\n",
       "      <td>Logistic Regression</td>\n",
       "      <td>0.952552</td>\n",
       "      <td>0.075299</td>\n",
       "      <td>0.092827</td>\n",
       "      <td>0.891298</td>\n",
       "      <td>0.951856</td>\n",
       "      <td>0.852303</td>\n",
       "      <td>0.806806</td>\n",
       "      <td>0.759591</td>\n",
       "    </tr>\n",
       "  </tbody>\n",
       "</table>\n",
       "</div>"
      ],
      "text/plain": [
       "            model_name  cv_test_auc  training_mis_rate  test_mis_rate  \\\n",
       "0  Logistic Regression     0.952552           0.075299       0.092827   \n",
       "\n",
       "   training_auc  test_auc  balanced_acc_test  mcc_train  mcc_tets  \n",
       "0      0.891298  0.951856           0.852303   0.806806  0.759591  "
      ]
     },
     "execution_count": 20,
     "metadata": {},
     "output_type": "execute_result"
    }
   ],
   "source": [
    "final_results.loc[len(final_results.index)] = [\n",
    "    'Logistic Regression',\n",
    "    gs_results_lr['best_score'][0],\n",
    "    mis_rate_lr_train,\n",
    "    mis_rate_lr,\n",
    "    auc_lr_train,\n",
    "    auc_lr,\n",
    "    balanced_acc_test_lr,\n",
    "    mcc_train_lr,\n",
    "    mcc_test_lr\n",
    "]\n",
    "final_results"
   ]
  },
  {
   "cell_type": "markdown",
   "metadata": {},
   "source": [
    "# Decision Tree"
   ]
  },
  {
   "cell_type": "code",
   "execution_count": 21,
   "metadata": {},
   "outputs": [],
   "source": [
    "dt_model_params = {\n",
    "    'Decision Tree': {\n",
    "        'model': DecisionTreeClassifier(),\n",
    "        'params': {\n",
    "            'criterion': ['gini', 'entropy'],\n",
    "            'max_depth':[2,4,8,12],\n",
    "            'ccp_alpha':[0,0.000001,0.00001,0.0001, 0.0003, 0.001, 0.01]\n",
    "        }\n",
    "    }\n",
    "}"
   ]
  },
  {
   "cell_type": "code",
   "execution_count": 22,
   "metadata": {},
   "outputs": [
    {
     "name": "stdout",
     "output_type": "stream",
     "text": [
      "Starting Grid Search for Decision Tree: 18:15\n",
      "Finished Grid Search for Decision Tree: 18:15\n",
      "Tempo de execução:  0.1 minutos\n"
     ]
    },
    {
     "data": {
      "text/html": [
       "<div>\n",
       "<style scoped>\n",
       "    .dataframe tbody tr th:only-of-type {\n",
       "        vertical-align: middle;\n",
       "    }\n",
       "\n",
       "    .dataframe tbody tr th {\n",
       "        vertical-align: top;\n",
       "    }\n",
       "\n",
       "    .dataframe thead th {\n",
       "        text-align: right;\n",
       "    }\n",
       "</style>\n",
       "<table border=\"1\" class=\"dataframe\">\n",
       "  <thead>\n",
       "    <tr style=\"text-align: right;\">\n",
       "      <th></th>\n",
       "      <th>model</th>\n",
       "      <th>best_score</th>\n",
       "      <th>best_params</th>\n",
       "    </tr>\n",
       "  </thead>\n",
       "  <tbody>\n",
       "    <tr>\n",
       "      <th>0</th>\n",
       "      <td>Decision Tree</td>\n",
       "      <td>0.922895</td>\n",
       "      <td>{'ccp_alpha': 0.01, 'criterion': 'entropy', 'm...</td>\n",
       "    </tr>\n",
       "  </tbody>\n",
       "</table>\n",
       "</div>"
      ],
      "text/plain": [
       "           model  best_score  \\\n",
       "0  Decision Tree    0.922895   \n",
       "\n",
       "                                         best_params  \n",
       "0  {'ccp_alpha': 0.01, 'criterion': 'entropy', 'm...  "
      ]
     },
     "execution_count": 22,
     "metadata": {},
     "output_type": "execute_result"
    }
   ],
   "source": [
    "gs_results_dt, gs_results_dt_full = best_params_grid(x_train_scaled, y_train, dt_model_params)\n",
    "gs_results_dt"
   ]
  },
  {
   "cell_type": "markdown",
   "metadata": {},
   "source": [
    "## Fitting tree"
   ]
  },
  {
   "cell_type": "code",
   "execution_count": 23,
   "metadata": {},
   "outputs": [
    {
     "name": "stdout",
     "output_type": "stream",
     "text": [
      "{'ccp_alpha': 0.01, 'criterion': 'entropy', 'max_depth': 8}\n"
     ]
    }
   ],
   "source": [
    "decision_tree_params = gs_results_dt.iloc[0,2]\n",
    "print(decision_tree_params)\n",
    "decision_tree = DecisionTreeClassifier(**decision_tree_params).fit(x_train_scaled, y_train)"
   ]
  },
  {
   "cell_type": "markdown",
   "metadata": {},
   "source": [
    "## Training Error and AUC"
   ]
  },
  {
   "cell_type": "code",
   "execution_count": 24,
   "metadata": {},
   "outputs": [
    {
     "name": "stdout",
     "output_type": "stream",
     "text": [
      "Training Misclassification Rate: 0.0767\n",
      "Training AUC: 0.8887\n"
     ]
    }
   ],
   "source": [
    "mis_rate_dt_train, auc_dt_train = get_error_and_auc(\n",
    "    model=decision_tree,\n",
    "    x=x_train_scaled,\n",
    "    y_true=y_train\n",
    ")"
   ]
  },
  {
   "cell_type": "markdown",
   "metadata": {},
   "source": [
    "## Test Prediction"
   ]
  },
  {
   "cell_type": "code",
   "execution_count": 25,
   "metadata": {},
   "outputs": [],
   "source": [
    "y_predict_dt_label = decision_tree.predict(x_test_scaled)\n",
    "y_predict_dt_prob = decision_tree.predict_proba(x_test_scaled)[:,1]"
   ]
  },
  {
   "cell_type": "markdown",
   "metadata": {},
   "source": [
    "## Test errors"
   ]
  },
  {
   "cell_type": "code",
   "execution_count": 26,
   "metadata": {},
   "outputs": [
    {
     "name": "stdout",
     "output_type": "stream",
     "text": [
      "Misclassification rate: 0.0865\n"
     ]
    }
   ],
   "source": [
    "mis_rate_dt, disp= calculate_confusion_matrix(\n",
    "    y_test=y_test,\n",
    "    y_pred=y_predict_dt_label\n",
    ")"
   ]
  },
  {
   "cell_type": "code",
   "execution_count": 27,
   "metadata": {},
   "outputs": [
    {
     "data": {
      "text/plain": [
       "Text(0.5, 1.0, 'CM Decision Tree Test Set\\n Natural vs Non Natural')"
      ]
     },
     "execution_count": 27,
     "metadata": {},
     "output_type": "execute_result"
    },
    {
     "data": {
      "image/png": "[encoded data removed]",
      "text/plain": [
       "<Figure size 640x480 with 2 Axes>"
      ]
     },
     "metadata": {},
     "output_type": "display_data"
    }
   ],
   "source": [
    "disp.plot()\n",
    "plt.title(f\"CM Decision Tree Test Set\\n Natural vs Non Natural\")"
   ]
  },
  {
   "cell_type": "markdown",
   "metadata": {},
   "source": [
    "## ROC for Test Set"
   ]
  },
  {
   "cell_type": "code",
   "execution_count": 28,
   "metadata": {},
   "outputs": [
    {
     "data": {
      "image/png": "[encoded data removed]",
      "text/plain": [
       "<Figure size 1000x800 with 1 Axes>"
      ]
     },
     "metadata": {},
     "output_type": "display_data"
    }
   ],
   "source": [
    "auc_dt = plot_roc_auc_curve(\n",
    "    y_test=y_test,\n",
    "    y_pred=y_predict_dt_prob,\n",
    "    model_name='DT',\n",
    "    title=f\"ROC: Decision Tree using Heuristics\\n NP vs Synthetic Drugs\",\n",
    "    save_path=f\"/home/gustavo/github/mestrado/reworks/imgs/dt_heuristics_natural_testset.png\"\n",
    ")"
   ]
  },
  {
   "cell_type": "markdown",
   "metadata": {},
   "source": [
    "## Feature Importance"
   ]
  },
  {
   "cell_type": "code",
   "execution_count": 29,
   "metadata": {},
   "outputs": [
    {
     "data": {
      "text/plain": [
       "Text(0.5, 1.0, 'Feature Importance: Decision Tree \\n NP vs Synthetic Drugs')"
      ]
     },
     "execution_count": 29,
     "metadata": {},
     "output_type": "execute_result"
    },
    {
     "data": {
      "image/png": "[encoded data removed]",
      "text/plain": [
       "<Figure size 1200x800 with 1 Axes>"
      ]
     },
     "metadata": {},
     "output_type": "display_data"
    }
   ],
   "source": [
    "# print the feature importances\n",
    "fig, ax = plt.subplots(1,1)\n",
    "feat_importances = pd.DataFrame(\n",
    "    decision_tree.feature_importances_,\n",
    "    index=x_train_scaled.columns,\n",
    "    columns=['Importance']\n",
    ")\n",
    "feat_importances.sort_values(by='Importance', ascending=False, inplace=True)\n",
    "feat_importances.iloc[:30,:].plot(kind='bar', figsize=(12,8), ax=ax)\n",
    "ax.set_title(f\"Feature Importance: Decision Tree \\n NP vs Synthetic Drugs\")"
   ]
  },
  {
   "cell_type": "code",
   "execution_count": 30,
   "metadata": {},
   "outputs": [
    {
     "data": {
      "text/html": [
       "<div>\n",
       "<style scoped>\n",
       "    .dataframe tbody tr th:only-of-type {\n",
       "        vertical-align: middle;\n",
       "    }\n",
       "\n",
       "    .dataframe tbody tr th {\n",
       "        vertical-align: top;\n",
       "    }\n",
       "\n",
       "    .dataframe thead th {\n",
       "        text-align: right;\n",
       "    }\n",
       "</style>\n",
       "<table border=\"1\" class=\"dataframe\">\n",
       "  <thead>\n",
       "    <tr style=\"text-align: right;\">\n",
       "      <th></th>\n",
       "      <th>Importance</th>\n",
       "    </tr>\n",
       "  </thead>\n",
       "  <tbody>\n",
       "    <tr>\n",
       "      <th>NumAtomStereoCenters</th>\n",
       "      <td>0.796077</td>\n",
       "    </tr>\n",
       "    <tr>\n",
       "      <th>CrippenClogP</th>\n",
       "      <td>0.087019</td>\n",
       "    </tr>\n",
       "    <tr>\n",
       "      <th>NumRings</th>\n",
       "      <td>0.039946</td>\n",
       "    </tr>\n",
       "    <tr>\n",
       "      <th>lipinskiHBA</th>\n",
       "      <td>0.034444</td>\n",
       "    </tr>\n",
       "    <tr>\n",
       "      <th>FractionCSP3</th>\n",
       "      <td>0.022579</td>\n",
       "    </tr>\n",
       "    <tr>\n",
       "      <th>NumBridgeheadAtoms</th>\n",
       "      <td>0.019935</td>\n",
       "    </tr>\n",
       "  </tbody>\n",
       "</table>\n",
       "</div>"
      ],
      "text/plain": [
       "                      Importance\n",
       "NumAtomStereoCenters    0.796077\n",
       "CrippenClogP            0.087019\n",
       "NumRings                0.039946\n",
       "lipinskiHBA             0.034444\n",
       "FractionCSP3            0.022579\n",
       "NumBridgeheadAtoms      0.019935"
      ]
     },
     "execution_count": 30,
     "metadata": {},
     "output_type": "execute_result"
    }
   ],
   "source": [
    "important_features_dt = feat_importances[feat_importances.Importance > 0].sort_values(by='Importance',\n",
    "                                                                                      ascending=False)\n",
    "important_features_dt[0:30]"
   ]
  },
  {
   "cell_type": "markdown",
   "metadata": {},
   "source": [
    "## Results\n"
   ]
  },
  {
   "cell_type": "code",
   "execution_count": 31,
   "metadata": {},
   "outputs": [
    {
     "name": "stdout",
     "output_type": "stream",
     "text": [
      "Balanced ACC test set: 0.873412343470483      MCC train 0.8030268508691586 e MCC test 0.7772727074070548\n"
     ]
    },
    {
     "data": {
      "text/html": [
       "<div>\n",
       "<style scoped>\n",
       "    .dataframe tbody tr th:only-of-type {\n",
       "        vertical-align: middle;\n",
       "    }\n",
       "\n",
       "    .dataframe tbody tr th {\n",
       "        vertical-align: top;\n",
       "    }\n",
       "\n",
       "    .dataframe thead th {\n",
       "        text-align: right;\n",
       "    }\n",
       "</style>\n",
       "<table border=\"1\" class=\"dataframe\">\n",
       "  <thead>\n",
       "    <tr style=\"text-align: right;\">\n",
       "      <th></th>\n",
       "      <th>model_name</th>\n",
       "      <th>cv_test_auc</th>\n",
       "      <th>training_mis_rate</th>\n",
       "      <th>test_mis_rate</th>\n",
       "      <th>training_auc</th>\n",
       "      <th>test_auc</th>\n",
       "      <th>balanced_acc_test</th>\n",
       "      <th>mcc_train</th>\n",
       "      <th>mcc_tets</th>\n",
       "    </tr>\n",
       "  </thead>\n",
       "  <tbody>\n",
       "    <tr>\n",
       "      <th>0</th>\n",
       "      <td>Logistic Regression</td>\n",
       "      <td>0.952552</td>\n",
       "      <td>0.075299</td>\n",
       "      <td>0.092827</td>\n",
       "      <td>0.891298</td>\n",
       "      <td>0.951856</td>\n",
       "      <td>0.852303</td>\n",
       "      <td>0.806806</td>\n",
       "      <td>0.759591</td>\n",
       "    </tr>\n",
       "    <tr>\n",
       "      <th>1</th>\n",
       "      <td>Decision Tree</td>\n",
       "      <td>0.922895</td>\n",
       "      <td>0.076707</td>\n",
       "      <td>0.086498</td>\n",
       "      <td>0.888728</td>\n",
       "      <td>0.913417</td>\n",
       "      <td>0.873412</td>\n",
       "      <td>0.803027</td>\n",
       "      <td>0.777273</td>\n",
       "    </tr>\n",
       "  </tbody>\n",
       "</table>\n",
       "</div>"
      ],
      "text/plain": [
       "            model_name  cv_test_auc  training_mis_rate  test_mis_rate  \\\n",
       "0  Logistic Regression     0.952552           0.075299       0.092827   \n",
       "1        Decision Tree     0.922895           0.076707       0.086498   \n",
       "\n",
       "   training_auc  test_auc  balanced_acc_test  mcc_train  mcc_tets  \n",
       "0      0.891298  0.951856           0.852303   0.806806  0.759591  \n",
       "1      0.888728  0.913417           0.873412   0.803027  0.777273  "
      ]
     },
     "execution_count": 31,
     "metadata": {},
     "output_type": "execute_result"
    }
   ],
   "source": [
    "balanced_acc_test_dt = balanced_accuracy_score(y_test, y_predict_dt_label)\n",
    "mcc_train_dt = matthews_corrcoef(y_train, decision_tree.predict(x_train_scaled))\n",
    "mcc_test_dt = matthews_corrcoef(y_test, y_predict_dt_label)\n",
    "\n",
    "print(f\"Balanced ACC test set: {balanced_acc_test_dt}\\\n",
    "      MCC train {mcc_train_dt} e MCC test {mcc_test_dt}\")\n",
    "\n",
    "final_results.loc[len(final_results.index)] = [\n",
    "    'Decision Tree',\n",
    "    gs_results_dt['best_score'][0],\n",
    "    mis_rate_dt_train,\n",
    "    mis_rate_dt,\n",
    "    auc_dt_train,\n",
    "    auc_dt,\n",
    "    balanced_acc_test_dt,\n",
    "    mcc_train_dt,\n",
    "    mcc_test_dt\n",
    "]\n",
    "\n",
    "final_results"
   ]
  },
  {
   "cell_type": "markdown",
   "metadata": {},
   "source": [
    "# Random Forest and Bagging"
   ]
  },
  {
   "cell_type": "code",
   "execution_count": 32,
   "metadata": {},
   "outputs": [],
   "source": [
    "# Hyperparameter finetuning\n",
    "rf_model_params = {\n",
    "    'Random Forest': {\n",
    "        'model': RandomForestClassifier(),\n",
    "        'params': {\n",
    "            'max_depth': [5,6,7,10],\n",
    "            'max_features': ['sqrt', x_train.shape[0]],\n",
    "            'ccp_alpha':[0, 0.0001, 0.01],\n",
    "            'min_samples_split':[4, 7]\n",
    "        }\n",
    "    }\n",
    "}"
   ]
  },
  {
   "cell_type": "code",
   "execution_count": 33,
   "metadata": {},
   "outputs": [
    {
     "name": "stdout",
     "output_type": "stream",
     "text": [
      "Starting Grid Search for Random Forest: 18:15\n",
      "Finished Grid Search for Random Forest: 18:18\n",
      "Tempo de execução:  2.5 minutos\n"
     ]
    },
    {
     "data": {
      "text/html": [
       "<div>\n",
       "<style scoped>\n",
       "    .dataframe tbody tr th:only-of-type {\n",
       "        vertical-align: middle;\n",
       "    }\n",
       "\n",
       "    .dataframe tbody tr th {\n",
       "        vertical-align: top;\n",
       "    }\n",
       "\n",
       "    .dataframe thead th {\n",
       "        text-align: right;\n",
       "    }\n",
       "</style>\n",
       "<table border=\"1\" class=\"dataframe\">\n",
       "  <thead>\n",
       "    <tr style=\"text-align: right;\">\n",
       "      <th></th>\n",
       "      <th>model</th>\n",
       "      <th>best_score</th>\n",
       "      <th>best_params</th>\n",
       "    </tr>\n",
       "  </thead>\n",
       "  <tbody>\n",
       "    <tr>\n",
       "      <th>0</th>\n",
       "      <td>Random Forest</td>\n",
       "      <td>0.970873</td>\n",
       "      <td>{'ccp_alpha': 0.0001, 'max_depth': 10, 'max_fe...</td>\n",
       "    </tr>\n",
       "  </tbody>\n",
       "</table>\n",
       "</div>"
      ],
      "text/plain": [
       "           model  best_score  \\\n",
       "0  Random Forest    0.970873   \n",
       "\n",
       "                                         best_params  \n",
       "0  {'ccp_alpha': 0.0001, 'max_depth': 10, 'max_fe...  "
      ]
     },
     "execution_count": 33,
     "metadata": {},
     "output_type": "execute_result"
    }
   ],
   "source": [
    "gs_results_rf, gs_results_rf_full = best_params_grid(x_train_scaled, y_train, rf_model_params)\n",
    "gs_results_rf"
   ]
  },
  {
   "cell_type": "markdown",
   "metadata": {},
   "source": [
    "## Fitting Model\n"
   ]
  },
  {
   "cell_type": "code",
   "execution_count": 34,
   "metadata": {},
   "outputs": [
    {
     "name": "stdout",
     "output_type": "stream",
     "text": [
      "{'ccp_alpha': 0.0001, 'max_depth': 10, 'max_features': 'sqrt', 'min_samples_split': 4}\n"
     ]
    }
   ],
   "source": [
    "random_forest_params = gs_results_rf.iloc[0,2]\n",
    "print(random_forest_params)\n",
    "random_forest = RandomForestClassifier(**random_forest_params).fit(x_train_scaled, y_train)"
   ]
  },
  {
   "cell_type": "markdown",
   "metadata": {},
   "source": [
    "## Making test predictions\n"
   ]
  },
  {
   "cell_type": "code",
   "execution_count": 35,
   "metadata": {},
   "outputs": [],
   "source": [
    "y_predict_rf_label = random_forest.predict(x_test_scaled)\n",
    "y_predict_rf_prob = random_forest.predict_proba(x_test_scaled)[:,1]"
   ]
  },
  {
   "cell_type": "markdown",
   "metadata": {},
   "source": [
    "## Get Training Error and Training AUC"
   ]
  },
  {
   "cell_type": "code",
   "execution_count": 36,
   "metadata": {},
   "outputs": [
    {
     "name": "stdout",
     "output_type": "stream",
     "text": [
      "Training Misclassification Rate: 0.0099\n",
      "Training AUC: 0.9820\n"
     ]
    }
   ],
   "source": [
    "mis_rate_rf_train, auc_rf_train=get_error_and_auc(\n",
    "    model=random_forest,\n",
    "    x=x_train_scaled,\n",
    "    y_true=y_train\n",
    ")"
   ]
  },
  {
   "cell_type": "markdown",
   "metadata": {},
   "source": [
    "## Test error"
   ]
  },
  {
   "cell_type": "code",
   "execution_count": 37,
   "metadata": {},
   "outputs": [
    {
     "name": "stdout",
     "output_type": "stream",
     "text": [
      "Misclassification rate: 0.0570\n"
     ]
    }
   ],
   "source": [
    "mis_rate_rf, disp = calculate_confusion_matrix(\n",
    "    y_test=y_test,\n",
    "    y_pred=y_predict_rf_label\n",
    ")"
   ]
  },
  {
   "cell_type": "code",
   "execution_count": 38,
   "metadata": {},
   "outputs": [
    {
     "data": {
      "text/plain": [
       "Text(0.5, 1.0, 'CM: Random Forest \\n NP vs Synthetic Heutistics')"
      ]
     },
     "execution_count": 38,
     "metadata": {},
     "output_type": "execute_result"
    },
    {
     "data": {
      "image/png": "[encoded data removed]",
      "text/plain": [
       "<Figure size 640x480 with 2 Axes>"
      ]
     },
     "metadata": {},
     "output_type": "display_data"
    }
   ],
   "source": [
    "disp.plot()\n",
    "plt.title(f\"CM: Random Forest \\n NP vs Synthetic Heutistics\")"
   ]
  },
  {
   "cell_type": "markdown",
   "metadata": {},
   "source": [
    "## ROC/AUC"
   ]
  },
  {
   "cell_type": "code",
   "execution_count": 39,
   "metadata": {},
   "outputs": [
    {
     "data": {
      "image/png": "[encoded data removed]",
      "text/plain": [
       "<Figure size 1000x800 with 1 Axes>"
      ]
     },
     "metadata": {},
     "output_type": "display_data"
    }
   ],
   "source": [
    "auc_rf = plot_roc_auc_curve(\n",
    "    y_test=y_test,\n",
    "    y_pred=y_predict_rf_prob,\n",
    "    model_name='RF',\n",
    "    title=f\"ROC RF NP vs Synthetic, Heuristics\",\n",
    "    save_path=f'/home/gustavo/github/mestrado/reworks/imgs/roc_auc_heuristics_rf_np.png'\n",
    ")"
   ]
  },
  {
   "cell_type": "markdown",
   "metadata": {},
   "source": [
    "## Feature Importance"
   ]
  },
  {
   "cell_type": "code",
   "execution_count": 40,
   "metadata": {},
   "outputs": [
    {
     "data": {
      "image/png": "[encoded data removed]",
      "text/plain": [
       "<Figure size 1200x800 with 1 Axes>"
      ]
     },
     "metadata": {},
     "output_type": "display_data"
    }
   ],
   "source": [
    "fig, ax = plt.subplots(1,1)\n",
    "feat_importances = pd.DataFrame(random_forest.feature_importances_,\n",
    "                                index=x_train_scaled.columns,\n",
    "                                columns=['Importance'])\n",
    "\n",
    "feat_importances.sort_values(by='Importance', ascending=False, inplace=True)\n",
    "feat_importances.iloc[:30,:].plot(kind='bar', figsize=(12,8), ax=ax)\n",
    "ax.set_title(f\"Feature Importance: RF \\n Oral vs Non Oral, Heuristics\")\n",
    "fig.savefig(f\"/home/gustavo/github/mestrado/reworks/imgs/feature_importance_rf_heuristics_np.png\")"
   ]
  },
  {
   "cell_type": "code",
   "execution_count": 41,
   "metadata": {},
   "outputs": [
    {
     "data": {
      "text/html": [
       "<div>\n",
       "<style scoped>\n",
       "    .dataframe tbody tr th:only-of-type {\n",
       "        vertical-align: middle;\n",
       "    }\n",
       "\n",
       "    .dataframe tbody tr th {\n",
       "        vertical-align: top;\n",
       "    }\n",
       "\n",
       "    .dataframe thead th {\n",
       "        text-align: right;\n",
       "    }\n",
       "</style>\n",
       "<table border=\"1\" class=\"dataframe\">\n",
       "  <thead>\n",
       "    <tr style=\"text-align: right;\">\n",
       "      <th></th>\n",
       "      <th>Importance</th>\n",
       "    </tr>\n",
       "  </thead>\n",
       "  <tbody>\n",
       "    <tr>\n",
       "      <th>NumAtomStereoCenters</th>\n",
       "      <td>0.274779</td>\n",
       "    </tr>\n",
       "    <tr>\n",
       "      <th>NumAliphaticRings</th>\n",
       "      <td>0.158178</td>\n",
       "    </tr>\n",
       "    <tr>\n",
       "      <th>CrippenClogP</th>\n",
       "      <td>0.083296</td>\n",
       "    </tr>\n",
       "    <tr>\n",
       "      <th>NumSaturatedRings</th>\n",
       "      <td>0.079022</td>\n",
       "    </tr>\n",
       "    <tr>\n",
       "      <th>FractionCSP3</th>\n",
       "      <td>0.053353</td>\n",
       "    </tr>\n",
       "    <tr>\n",
       "      <th>lipinskiHBA</th>\n",
       "      <td>0.049017</td>\n",
       "    </tr>\n",
       "    <tr>\n",
       "      <th>exactmw</th>\n",
       "      <td>0.046789</td>\n",
       "    </tr>\n",
       "    <tr>\n",
       "      <th>NumAromaticRings</th>\n",
       "      <td>0.046288</td>\n",
       "    </tr>\n",
       "    <tr>\n",
       "      <th>lipinskiHBD</th>\n",
       "      <td>0.041774</td>\n",
       "    </tr>\n",
       "    <tr>\n",
       "      <th>NumRings</th>\n",
       "      <td>0.040030</td>\n",
       "    </tr>\n",
       "    <tr>\n",
       "      <th>NumHeterocycles</th>\n",
       "      <td>0.029703</td>\n",
       "    </tr>\n",
       "    <tr>\n",
       "      <th>NumRotatableBonds</th>\n",
       "      <td>0.026750</td>\n",
       "    </tr>\n",
       "    <tr>\n",
       "      <th>NumAliphaticHeterocycles</th>\n",
       "      <td>0.024419</td>\n",
       "    </tr>\n",
       "    <tr>\n",
       "      <th>NumAmideBonds</th>\n",
       "      <td>0.016730</td>\n",
       "    </tr>\n",
       "    <tr>\n",
       "      <th>NumBridgeheadAtoms</th>\n",
       "      <td>0.015191</td>\n",
       "    </tr>\n",
       "    <tr>\n",
       "      <th>NumAromaticHeterocycles</th>\n",
       "      <td>0.014682</td>\n",
       "    </tr>\n",
       "  </tbody>\n",
       "</table>\n",
       "</div>"
      ],
      "text/plain": [
       "                          Importance\n",
       "NumAtomStereoCenters        0.274779\n",
       "NumAliphaticRings           0.158178\n",
       "CrippenClogP                0.083296\n",
       "NumSaturatedRings           0.079022\n",
       "FractionCSP3                0.053353\n",
       "lipinskiHBA                 0.049017\n",
       "exactmw                     0.046789\n",
       "NumAromaticRings            0.046288\n",
       "lipinskiHBD                 0.041774\n",
       "NumRings                    0.040030\n",
       "NumHeterocycles             0.029703\n",
       "NumRotatableBonds           0.026750\n",
       "NumAliphaticHeterocycles    0.024419\n",
       "NumAmideBonds               0.016730\n",
       "NumBridgeheadAtoms          0.015191\n",
       "NumAromaticHeterocycles     0.014682"
      ]
     },
     "execution_count": 41,
     "metadata": {},
     "output_type": "execute_result"
    }
   ],
   "source": [
    "important_features_rf = feat_importances[feat_importances.Importance > 0].sort_values(by='Importance', ascending=False)\n",
    "important_features_rf[0:30]"
   ]
  },
  {
   "cell_type": "markdown",
   "metadata": {},
   "source": [
    "## Saving Results"
   ]
  },
  {
   "cell_type": "code",
   "execution_count": 42,
   "metadata": {},
   "outputs": [
    {
     "name": "stdout",
     "output_type": "stream",
     "text": [
      "Balanced ACC test set random forest: 0.9129025044722718      MCC train set: 0.9752474862765411, MCC test set 0.8544789556928801\n"
     ]
    },
    {
     "data": {
      "text/html": [
       "<div>\n",
       "<style scoped>\n",
       "    .dataframe tbody tr th:only-of-type {\n",
       "        vertical-align: middle;\n",
       "    }\n",
       "\n",
       "    .dataframe tbody tr th {\n",
       "        vertical-align: top;\n",
       "    }\n",
       "\n",
       "    .dataframe thead th {\n",
       "        text-align: right;\n",
       "    }\n",
       "</style>\n",
       "<table border=\"1\" class=\"dataframe\">\n",
       "  <thead>\n",
       "    <tr style=\"text-align: right;\">\n",
       "      <th></th>\n",
       "      <th>model_name</th>\n",
       "      <th>cv_test_auc</th>\n",
       "      <th>training_mis_rate</th>\n",
       "      <th>test_mis_rate</th>\n",
       "      <th>training_auc</th>\n",
       "      <th>test_auc</th>\n",
       "      <th>balanced_acc_test</th>\n",
       "      <th>mcc_train</th>\n",
       "      <th>mcc_tets</th>\n",
       "    </tr>\n",
       "  </thead>\n",
       "  <tbody>\n",
       "    <tr>\n",
       "      <th>0</th>\n",
       "      <td>Logistic Regression</td>\n",
       "      <td>0.952552</td>\n",
       "      <td>0.075299</td>\n",
       "      <td>0.092827</td>\n",
       "      <td>0.891298</td>\n",
       "      <td>0.951856</td>\n",
       "      <td>0.852303</td>\n",
       "      <td>0.806806</td>\n",
       "      <td>0.759591</td>\n",
       "    </tr>\n",
       "    <tr>\n",
       "      <th>1</th>\n",
       "      <td>Decision Tree</td>\n",
       "      <td>0.922895</td>\n",
       "      <td>0.076707</td>\n",
       "      <td>0.086498</td>\n",
       "      <td>0.888728</td>\n",
       "      <td>0.913417</td>\n",
       "      <td>0.873412</td>\n",
       "      <td>0.803027</td>\n",
       "      <td>0.777273</td>\n",
       "    </tr>\n",
       "    <tr>\n",
       "      <th>2</th>\n",
       "      <td>Random Forest</td>\n",
       "      <td>0.970873</td>\n",
       "      <td>0.009852</td>\n",
       "      <td>0.056962</td>\n",
       "      <td>0.982005</td>\n",
       "      <td>0.973658</td>\n",
       "      <td>0.912903</td>\n",
       "      <td>0.975247</td>\n",
       "      <td>0.854479</td>\n",
       "    </tr>\n",
       "  </tbody>\n",
       "</table>\n",
       "</div>"
      ],
      "text/plain": [
       "            model_name  cv_test_auc  training_mis_rate  test_mis_rate  \\\n",
       "0  Logistic Regression     0.952552           0.075299       0.092827   \n",
       "1        Decision Tree     0.922895           0.076707       0.086498   \n",
       "2        Random Forest     0.970873           0.009852       0.056962   \n",
       "\n",
       "   training_auc  test_auc  balanced_acc_test  mcc_train  mcc_tets  \n",
       "0      0.891298  0.951856           0.852303   0.806806  0.759591  \n",
       "1      0.888728  0.913417           0.873412   0.803027  0.777273  \n",
       "2      0.982005  0.973658           0.912903   0.975247  0.854479  "
      ]
     },
     "execution_count": 42,
     "metadata": {},
     "output_type": "execute_result"
    }
   ],
   "source": [
    "balanced_acc_test_rf = balanced_accuracy_score(y_test, y_predict_rf_label)\n",
    "mcc_train_rf = matthews_corrcoef(y_train, random_forest.predict(x_train_scaled))\n",
    "mcc_test_rf = matthews_corrcoef(y_test, y_predict_rf_label)\n",
    "\n",
    "\n",
    "print(f\"Balanced ACC test set random forest: {balanced_acc_test_rf}\\\n",
    "      MCC train set: {mcc_train_rf}, MCC test set {mcc_test_rf}\")\n",
    "\n",
    "final_results.loc[len(final_results.index)] = [\n",
    "    'Random Forest',\n",
    "    gs_results_rf['best_score'][0],\n",
    "    mis_rate_rf_train,\n",
    "    mis_rate_rf,\n",
    "    auc_rf_train,\n",
    "    auc_rf,\n",
    "    balanced_acc_test_rf,\n",
    "    mcc_train_rf,\n",
    "    mcc_test_rf\n",
    "]\n",
    "\n",
    "final_results"
   ]
  },
  {
   "cell_type": "markdown",
   "metadata": {},
   "source": [
    "# Gradient Boosting"
   ]
  },
  {
   "cell_type": "code",
   "execution_count": 43,
   "metadata": {},
   "outputs": [],
   "source": [
    "boosting_model_params = {\n",
    "    'Boosting': {\n",
    "        'model': GradientBoostingClassifier(),\n",
    "        'params': {\n",
    "            'learning_rate':[0.04, 0.05],\n",
    "            'max_depth': [5,8,10],\n",
    "            'min_samples_split':[16,18],\n",
    "            'subsample':[0.6,0.8]\n",
    "        }\n",
    "    }\n",
    "}"
   ]
  },
  {
   "cell_type": "code",
   "execution_count": 44,
   "metadata": {},
   "outputs": [
    {
     "name": "stdout",
     "output_type": "stream",
     "text": [
      "Starting Grid Search for Boosting: 18:18\n",
      "Finished Grid Search for Boosting: 18:20\n",
      "Tempo de execução:  2.0 minutos\n"
     ]
    },
    {
     "data": {
      "text/html": [
       "<div>\n",
       "<style scoped>\n",
       "    .dataframe tbody tr th:only-of-type {\n",
       "        vertical-align: middle;\n",
       "    }\n",
       "\n",
       "    .dataframe tbody tr th {\n",
       "        vertical-align: top;\n",
       "    }\n",
       "\n",
       "    .dataframe thead th {\n",
       "        text-align: right;\n",
       "    }\n",
       "</style>\n",
       "<table border=\"1\" class=\"dataframe\">\n",
       "  <thead>\n",
       "    <tr style=\"text-align: right;\">\n",
       "      <th></th>\n",
       "      <th>model</th>\n",
       "      <th>best_score</th>\n",
       "      <th>best_params</th>\n",
       "    </tr>\n",
       "  </thead>\n",
       "  <tbody>\n",
       "    <tr>\n",
       "      <th>0</th>\n",
       "      <td>Boosting</td>\n",
       "      <td>0.967695</td>\n",
       "      <td>{'learning_rate': 0.04, 'max_depth': 10, 'min_...</td>\n",
       "    </tr>\n",
       "  </tbody>\n",
       "</table>\n",
       "</div>"
      ],
      "text/plain": [
       "      model  best_score                                        best_params\n",
       "0  Boosting    0.967695  {'learning_rate': 0.04, 'max_depth': 10, 'min_..."
      ]
     },
     "execution_count": 44,
     "metadata": {},
     "output_type": "execute_result"
    }
   ],
   "source": [
    "gs_results_boost, gs_result_boost_full = best_params_grid(x_train_scaled, y_train, boosting_model_params)\n",
    "gs_results_boost"
   ]
  },
  {
   "cell_type": "markdown",
   "metadata": {},
   "source": [
    "## Fitting the Model"
   ]
  },
  {
   "cell_type": "code",
   "execution_count": 45,
   "metadata": {},
   "outputs": [
    {
     "name": "stdout",
     "output_type": "stream",
     "text": [
      "{'learning_rate': 0.04, 'max_depth': 10, 'min_samples_split': 18, 'subsample': 0.6}\n"
     ]
    }
   ],
   "source": [
    "boosting_params = gs_results_boost.iloc[0,2]\n",
    "print(boosting_params)\n",
    "boosting = GradientBoostingClassifier(**boosting_params).fit(x_train_scaled, y_train)"
   ]
  },
  {
   "cell_type": "markdown",
   "metadata": {},
   "source": [
    "## Get training error and AUC"
   ]
  },
  {
   "cell_type": "code",
   "execution_count": 46,
   "metadata": {},
   "outputs": [
    {
     "name": "stdout",
     "output_type": "stream",
     "text": [
      "Training Misclassification Rate: 0.0084\n",
      "Training AUC: 0.9862\n"
     ]
    }
   ],
   "source": [
    "mis_rate_boost_train, auc_boost_train = get_error_and_auc(\n",
    "    model=boosting,\n",
    "    x=x_train_scaled,\n",
    "    y_true=y_train\n",
    ")"
   ]
  },
  {
   "cell_type": "markdown",
   "metadata": {},
   "source": [
    "## Make predictions"
   ]
  },
  {
   "cell_type": "code",
   "execution_count": 47,
   "metadata": {},
   "outputs": [],
   "source": [
    "y_predict_boost_label = boosting.predict(x_test_scaled)\n",
    "y_predict_boost_prob = boosting.predict_proba(x_test_scaled)[:,1]"
   ]
  },
  {
   "cell_type": "markdown",
   "metadata": {},
   "source": [
    "## Test Error"
   ]
  },
  {
   "cell_type": "code",
   "execution_count": 48,
   "metadata": {},
   "outputs": [
    {
     "name": "stdout",
     "output_type": "stream",
     "text": [
      "Misclassification rate: 0.0527\n"
     ]
    },
    {
     "data": {
      "image/png": "[encoded data removed]",
      "text/plain": [
       "<Figure size 640x480 with 2 Axes>"
      ]
     },
     "metadata": {},
     "output_type": "display_data"
    }
   ],
   "source": [
    "mis_rate_boost, disp = calculate_confusion_matrix(\n",
    "    y_test=y_test,\n",
    "    y_pred=y_predict_boost_label\n",
    ")\n",
    "disp.plot()\n",
    "plt.title(f\"CM: Gradient Boosting NP vs Synth, Heuristics\")\n",
    "plt.show()"
   ]
  },
  {
   "cell_type": "markdown",
   "metadata": {},
   "source": [
    "## ROC/AUC Test"
   ]
  },
  {
   "cell_type": "code",
   "execution_count": 49,
   "metadata": {},
   "outputs": [
    {
     "data": {
      "image/png": "[encoded data removed]",
      "text/plain": [
       "<Figure size 1000x800 with 1 Axes>"
      ]
     },
     "metadata": {},
     "output_type": "display_data"
    }
   ],
   "source": [
    "auc_boost = plot_roc_auc_curve(\n",
    "    y_test=y_test,\n",
    "    y_pred=y_predict_boost_prob,\n",
    "    model_name='GB',\n",
    "    title=f\"ROC Gradient Boosting\\nSynth VS NP, Heuristics\",\n",
    "    save_path=f'/home/gustavo/github/mestrado/reworks/imgs/roc_auc_np_heuristics_testset_gb.png'\n",
    ")"
   ]
  },
  {
   "cell_type": "markdown",
   "metadata": {},
   "source": [
    "## Feature Importance"
   ]
  },
  {
   "cell_type": "code",
   "execution_count": 50,
   "metadata": {},
   "outputs": [
    {
     "data": {
      "text/plain": [
       "Text(0.5, 1.0, 'Feature Importance: Gradient Boosting\\n NP vs Synth, Heuristics')"
      ]
     },
     "execution_count": 50,
     "metadata": {},
     "output_type": "execute_result"
    },
    {
     "data": {
      "image/png": "[encoded data removed]",
      "text/plain": [
       "<Figure size 1200x800 with 1 Axes>"
      ]
     },
     "metadata": {},
     "output_type": "display_data"
    }
   ],
   "source": [
    "fig, ax = plt.subplots(1,1)\n",
    "feat_importances = pd.DataFrame(boosting.feature_importances_,\n",
    "                                index=x_train_scaled.columns, columns=['Importance'])\n",
    "feat_importances.sort_values(by='Importance', ascending=False, inplace=True)\n",
    "\n",
    "feat_importances.iloc[:30,:].plot(kind='bar', figsize=(12,8), ax=ax)\n",
    "ax.set_title(f\"Feature Importance: Gradient Boosting\\n NP vs Synth, Heuristics\")"
   ]
  },
  {
   "cell_type": "code",
   "execution_count": 51,
   "metadata": {},
   "outputs": [
    {
     "data": {
      "text/html": [
       "<div>\n",
       "<style scoped>\n",
       "    .dataframe tbody tr th:only-of-type {\n",
       "        vertical-align: middle;\n",
       "    }\n",
       "\n",
       "    .dataframe tbody tr th {\n",
       "        vertical-align: top;\n",
       "    }\n",
       "\n",
       "    .dataframe thead th {\n",
       "        text-align: right;\n",
       "    }\n",
       "</style>\n",
       "<table border=\"1\" class=\"dataframe\">\n",
       "  <thead>\n",
       "    <tr style=\"text-align: right;\">\n",
       "      <th></th>\n",
       "      <th>Importance</th>\n",
       "    </tr>\n",
       "  </thead>\n",
       "  <tbody>\n",
       "    <tr>\n",
       "      <th>NumAtomStereoCenters</th>\n",
       "      <td>0.538837</td>\n",
       "    </tr>\n",
       "    <tr>\n",
       "      <th>CrippenClogP</th>\n",
       "      <td>0.126635</td>\n",
       "    </tr>\n",
       "    <tr>\n",
       "      <th>lipinskiHBA</th>\n",
       "      <td>0.043072</td>\n",
       "    </tr>\n",
       "    <tr>\n",
       "      <th>exactmw</th>\n",
       "      <td>0.041669</td>\n",
       "    </tr>\n",
       "    <tr>\n",
       "      <th>FractionCSP3</th>\n",
       "      <td>0.039805</td>\n",
       "    </tr>\n",
       "    <tr>\n",
       "      <th>NumBridgeheadAtoms</th>\n",
       "      <td>0.029918</td>\n",
       "    </tr>\n",
       "    <tr>\n",
       "      <th>NumRotatableBonds</th>\n",
       "      <td>0.027476</td>\n",
       "    </tr>\n",
       "    <tr>\n",
       "      <th>NumRings</th>\n",
       "      <td>0.027474</td>\n",
       "    </tr>\n",
       "    <tr>\n",
       "      <th>NumHeterocycles</th>\n",
       "      <td>0.026327</td>\n",
       "    </tr>\n",
       "    <tr>\n",
       "      <th>NumAliphaticRings</th>\n",
       "      <td>0.022466</td>\n",
       "    </tr>\n",
       "    <tr>\n",
       "      <th>NumAromaticHeterocycles</th>\n",
       "      <td>0.017038</td>\n",
       "    </tr>\n",
       "    <tr>\n",
       "      <th>NumAmideBonds</th>\n",
       "      <td>0.015684</td>\n",
       "    </tr>\n",
       "    <tr>\n",
       "      <th>NumAromaticRings</th>\n",
       "      <td>0.014745</td>\n",
       "    </tr>\n",
       "    <tr>\n",
       "      <th>lipinskiHBD</th>\n",
       "      <td>0.013116</td>\n",
       "    </tr>\n",
       "    <tr>\n",
       "      <th>NumSaturatedRings</th>\n",
       "      <td>0.009435</td>\n",
       "    </tr>\n",
       "    <tr>\n",
       "      <th>NumAliphaticHeterocycles</th>\n",
       "      <td>0.006303</td>\n",
       "    </tr>\n",
       "  </tbody>\n",
       "</table>\n",
       "</div>"
      ],
      "text/plain": [
       "                          Importance\n",
       "NumAtomStereoCenters        0.538837\n",
       "CrippenClogP                0.126635\n",
       "lipinskiHBA                 0.043072\n",
       "exactmw                     0.041669\n",
       "FractionCSP3                0.039805\n",
       "NumBridgeheadAtoms          0.029918\n",
       "NumRotatableBonds           0.027476\n",
       "NumRings                    0.027474\n",
       "NumHeterocycles             0.026327\n",
       "NumAliphaticRings           0.022466\n",
       "NumAromaticHeterocycles     0.017038\n",
       "NumAmideBonds               0.015684\n",
       "NumAromaticRings            0.014745\n",
       "lipinskiHBD                 0.013116\n",
       "NumSaturatedRings           0.009435\n",
       "NumAliphaticHeterocycles    0.006303"
      ]
     },
     "execution_count": 51,
     "metadata": {},
     "output_type": "execute_result"
    }
   ],
   "source": [
    "important_features_boost = feat_importances[feat_importances.Importance > 0].sort_values(\n",
    "    by='Importance', ascending=False)\n",
    "important_features_boost[0:30]"
   ]
  },
  {
   "cell_type": "markdown",
   "metadata": {},
   "source": [
    "## Saving Results"
   ]
  },
  {
   "cell_type": "code",
   "execution_count": 52,
   "metadata": {},
   "outputs": [
    {
     "name": "stdout",
     "output_type": "stream",
     "text": [
      "Balanced ACC test set 0.927772808586762,        MCC test set 0.866216292967251 MCC train set 0.9787243128128629\n"
     ]
    },
    {
     "data": {
      "text/html": [
       "<div>\n",
       "<style scoped>\n",
       "    .dataframe tbody tr th:only-of-type {\n",
       "        vertical-align: middle;\n",
       "    }\n",
       "\n",
       "    .dataframe tbody tr th {\n",
       "        vertical-align: top;\n",
       "    }\n",
       "\n",
       "    .dataframe thead th {\n",
       "        text-align: right;\n",
       "    }\n",
       "</style>\n",
       "<table border=\"1\" class=\"dataframe\">\n",
       "  <thead>\n",
       "    <tr style=\"text-align: right;\">\n",
       "      <th></th>\n",
       "      <th>model_name</th>\n",
       "      <th>cv_test_auc</th>\n",
       "      <th>training_mis_rate</th>\n",
       "      <th>test_mis_rate</th>\n",
       "      <th>training_auc</th>\n",
       "      <th>test_auc</th>\n",
       "      <th>balanced_acc_test</th>\n",
       "      <th>mcc_train</th>\n",
       "      <th>mcc_tets</th>\n",
       "    </tr>\n",
       "  </thead>\n",
       "  <tbody>\n",
       "    <tr>\n",
       "      <th>0</th>\n",
       "      <td>Logistic Regression</td>\n",
       "      <td>0.952552</td>\n",
       "      <td>0.075299</td>\n",
       "      <td>0.092827</td>\n",
       "      <td>0.891298</td>\n",
       "      <td>0.951856</td>\n",
       "      <td>0.852303</td>\n",
       "      <td>0.806806</td>\n",
       "      <td>0.759591</td>\n",
       "    </tr>\n",
       "    <tr>\n",
       "      <th>1</th>\n",
       "      <td>Decision Tree</td>\n",
       "      <td>0.922895</td>\n",
       "      <td>0.076707</td>\n",
       "      <td>0.086498</td>\n",
       "      <td>0.888728</td>\n",
       "      <td>0.913417</td>\n",
       "      <td>0.873412</td>\n",
       "      <td>0.803027</td>\n",
       "      <td>0.777273</td>\n",
       "    </tr>\n",
       "    <tr>\n",
       "      <th>2</th>\n",
       "      <td>Random Forest</td>\n",
       "      <td>0.970873</td>\n",
       "      <td>0.009852</td>\n",
       "      <td>0.056962</td>\n",
       "      <td>0.982005</td>\n",
       "      <td>0.973658</td>\n",
       "      <td>0.912903</td>\n",
       "      <td>0.975247</td>\n",
       "      <td>0.854479</td>\n",
       "    </tr>\n",
       "    <tr>\n",
       "      <th>3</th>\n",
       "      <td>Gradient Boosting</td>\n",
       "      <td>0.967695</td>\n",
       "      <td>0.008445</td>\n",
       "      <td>0.052743</td>\n",
       "      <td>0.986178</td>\n",
       "      <td>0.974329</td>\n",
       "      <td>0.927773</td>\n",
       "      <td>0.978724</td>\n",
       "      <td>0.866216</td>\n",
       "    </tr>\n",
       "  </tbody>\n",
       "</table>\n",
       "</div>"
      ],
      "text/plain": [
       "            model_name  cv_test_auc  training_mis_rate  test_mis_rate  \\\n",
       "0  Logistic Regression     0.952552           0.075299       0.092827   \n",
       "1        Decision Tree     0.922895           0.076707       0.086498   \n",
       "2        Random Forest     0.970873           0.009852       0.056962   \n",
       "3    Gradient Boosting     0.967695           0.008445       0.052743   \n",
       "\n",
       "   training_auc  test_auc  balanced_acc_test  mcc_train  mcc_tets  \n",
       "0      0.891298  0.951856           0.852303   0.806806  0.759591  \n",
       "1      0.888728  0.913417           0.873412   0.803027  0.777273  \n",
       "2      0.982005  0.973658           0.912903   0.975247  0.854479  \n",
       "3      0.986178  0.974329           0.927773   0.978724  0.866216  "
      ]
     },
     "execution_count": 52,
     "metadata": {},
     "output_type": "execute_result"
    }
   ],
   "source": [
    "balanced_acc_test_boost=balanced_accuracy_score(y_test, y_predict_boost_label)\n",
    "mcc_train_boost = matthews_corrcoef(y_train, boosting.predict(x_train_scaled))\n",
    "mcc_test_boost = matthews_corrcoef(y_test, y_predict_boost_label)\n",
    "\n",
    "print(f\"Balanced ACC test set {balanced_acc_test_boost},\\\n",
    "        MCC test set {mcc_test_boost} MCC train set {mcc_train_boost}\")\n",
    "\n",
    "final_results.loc[len(final_results.index)] = [\n",
    "    'Gradient Boosting',\n",
    "    gs_results_boost['best_score'][0],\n",
    "    mis_rate_boost_train,\n",
    "    mis_rate_boost,\n",
    "    auc_boost_train,\n",
    "    auc_boost,\n",
    "    balanced_acc_test_boost,\n",
    "    mcc_train_boost,\n",
    "    mcc_test_boost\n",
    "]\n",
    "final_results"
   ]
  },
  {
   "cell_type": "markdown",
   "metadata": {},
   "source": [
    "# SVM"
   ]
  },
  {
   "cell_type": "markdown",
   "metadata": {},
   "source": [
    "## Hyperparameter Fine Tuning"
   ]
  },
  {
   "cell_type": "code",
   "execution_count": 53,
   "metadata": {},
   "outputs": [],
   "source": [
    "svm_model_params = {\n",
    "    'SVM': {\n",
    "        'model': SVC(),\n",
    "        'params': {\n",
    "            'C': [0.01, 0.1, 0.2, 1, 2, 4],\n",
    "            'kernel': ['rbf', 'sigmoid'],\n",
    "            'gamma':['auto', 0.0001, 0.001]\n",
    "        }\n",
    "    }\n",
    "}"
   ]
  },
  {
   "cell_type": "code",
   "execution_count": 54,
   "metadata": {},
   "outputs": [
    {
     "name": "stdout",
     "output_type": "stream",
     "text": [
      "Starting Grid Search for SVM: 18:20\n",
      "Finished Grid Search for SVM: 18:20\n",
      "Tempo de execução:  0.5 minutos\n"
     ]
    }
   ],
   "source": [
    "gs_results_svm, gs_results_svm_full = best_params_grid(x_train_scaled, y_train, svm_model_params)"
   ]
  },
  {
   "cell_type": "code",
   "execution_count": 55,
   "metadata": {},
   "outputs": [
    {
     "data": {
      "text/html": [
       "<div>\n",
       "<style scoped>\n",
       "    .dataframe tbody tr th:only-of-type {\n",
       "        vertical-align: middle;\n",
       "    }\n",
       "\n",
       "    .dataframe tbody tr th {\n",
       "        vertical-align: top;\n",
       "    }\n",
       "\n",
       "    .dataframe thead th {\n",
       "        text-align: right;\n",
       "    }\n",
       "</style>\n",
       "<table border=\"1\" class=\"dataframe\">\n",
       "  <thead>\n",
       "    <tr style=\"text-align: right;\">\n",
       "      <th></th>\n",
       "      <th>model</th>\n",
       "      <th>best_score</th>\n",
       "      <th>best_params</th>\n",
       "    </tr>\n",
       "  </thead>\n",
       "  <tbody>\n",
       "    <tr>\n",
       "      <th>0</th>\n",
       "      <td>SVM</td>\n",
       "      <td>0.971759</td>\n",
       "      <td>{'C': 4, 'gamma': 'auto', 'kernel': 'rbf'}</td>\n",
       "    </tr>\n",
       "  </tbody>\n",
       "</table>\n",
       "</div>"
      ],
      "text/plain": [
       "  model  best_score                                 best_params\n",
       "0   SVM    0.971759  {'C': 4, 'gamma': 'auto', 'kernel': 'rbf'}"
      ]
     },
     "execution_count": 55,
     "metadata": {},
     "output_type": "execute_result"
    }
   ],
   "source": [
    "gs_results_svm"
   ]
  },
  {
   "cell_type": "markdown",
   "metadata": {},
   "source": [
    "## Fitting the model"
   ]
  },
  {
   "cell_type": "code",
   "execution_count": 56,
   "metadata": {},
   "outputs": [
    {
     "name": "stdout",
     "output_type": "stream",
     "text": [
      "{'C': 4, 'gamma': 'auto', 'kernel': 'rbf'}\n"
     ]
    }
   ],
   "source": [
    "svm_params = gs_results_svm.iloc[0,2]\n",
    "print(svm_params)\n",
    "svm = SVC(**svm_params, probability=True).fit(x_train_scaled, y_train)"
   ]
  },
  {
   "cell_type": "markdown",
   "metadata": {},
   "source": [
    "## Get Training Error and AUC"
   ]
  },
  {
   "cell_type": "code",
   "execution_count": 57,
   "metadata": {},
   "outputs": [
    {
     "name": "stdout",
     "output_type": "stream",
     "text": [
      "Training Misclassification Rate: 0.0281\n",
      "Training AUC: 0.9622\n"
     ]
    }
   ],
   "source": [
    "miss_rate_svm_train, auc_svm_train = get_error_and_auc(\n",
    "    model=svm, x=x_train_scaled,y_true=y_train\n",
    ")"
   ]
  },
  {
   "cell_type": "markdown",
   "metadata": {},
   "source": [
    "## Make Prediction"
   ]
  },
  {
   "cell_type": "code",
   "execution_count": 58,
   "metadata": {},
   "outputs": [],
   "source": [
    "y_predict_svm_label = svm.predict(x_test_scaled)\n",
    "y_predict_svm_prob = svm.predict_proba(x_test_scaled)[:,1]"
   ]
  },
  {
   "cell_type": "markdown",
   "metadata": {},
   "source": [
    "## Test Error"
   ]
  },
  {
   "cell_type": "code",
   "execution_count": 59,
   "metadata": {},
   "outputs": [
    {
     "name": "stdout",
     "output_type": "stream",
     "text": [
      "Misclassification rate: 0.0612\n"
     ]
    },
    {
     "data": {
      "text/plain": [
       "Text(0.5, 1.0, 'Confusion Matrix SVM\\n NP vs Synth')"
      ]
     },
     "execution_count": 59,
     "metadata": {},
     "output_type": "execute_result"
    },
    {
     "data": {
      "image/png": "[encoded data removed]",
      "text/plain": [
       "<Figure size 640x480 with 2 Axes>"
      ]
     },
     "metadata": {},
     "output_type": "display_data"
    }
   ],
   "source": [
    "mis_rate_svm, disp = calculate_confusion_matrix(\n",
    "    y_test=y_test,\n",
    "    y_pred=y_predict_svm_label\n",
    ")\n",
    "\n",
    "disp.plot()\n",
    "plt.title(f\"Confusion Matrix SVM\\n NP vs Synth\")"
   ]
  },
  {
   "cell_type": "markdown",
   "metadata": {},
   "source": [
    "## ROC"
   ]
  },
  {
   "cell_type": "code",
   "execution_count": 60,
   "metadata": {},
   "outputs": [
    {
     "data": {
      "image/png": "[encoded data removed]",
      "text/plain": [
       "<Figure size 1000x800 with 1 Axes>"
      ]
     },
     "metadata": {},
     "output_type": "display_data"
    }
   ],
   "source": [
    "auc_svm = plot_roc_auc_curve(\n",
    "    y_test=y_test,\n",
    "    y_pred=y_predict_svm_prob,\n",
    "    model_name='SVM',\n",
    "    title=f'ROC SVM NP vs Synth',\n",
    "    save_path=f'/home/gustavo/github/mestrado/reworks/imgs/roc_auc_heuristics_svm_np_synth.png'\n",
    ")"
   ]
  },
  {
   "cell_type": "markdown",
   "metadata": {},
   "source": [
    "## Saving Results"
   ]
  },
  {
   "cell_type": "code",
   "execution_count": 61,
   "metadata": {},
   "outputs": [
    {
     "name": "stdout",
     "output_type": "stream",
     "text": [
      "Balanced ACC Test 0.9171735241502683      MCC train: 0.928917342408175 MCC test: 0.8447533278409323\n"
     ]
    },
    {
     "data": {
      "text/html": [
       "<div>\n",
       "<style scoped>\n",
       "    .dataframe tbody tr th:only-of-type {\n",
       "        vertical-align: middle;\n",
       "    }\n",
       "\n",
       "    .dataframe tbody tr th {\n",
       "        vertical-align: top;\n",
       "    }\n",
       "\n",
       "    .dataframe thead th {\n",
       "        text-align: right;\n",
       "    }\n",
       "</style>\n",
       "<table border=\"1\" class=\"dataframe\">\n",
       "  <thead>\n",
       "    <tr style=\"text-align: right;\">\n",
       "      <th></th>\n",
       "      <th>model_name</th>\n",
       "      <th>cv_test_auc</th>\n",
       "      <th>training_mis_rate</th>\n",
       "      <th>test_mis_rate</th>\n",
       "      <th>training_auc</th>\n",
       "      <th>test_auc</th>\n",
       "      <th>balanced_acc_test</th>\n",
       "      <th>mcc_train</th>\n",
       "      <th>mcc_tets</th>\n",
       "    </tr>\n",
       "  </thead>\n",
       "  <tbody>\n",
       "    <tr>\n",
       "      <th>0</th>\n",
       "      <td>Logistic Regression</td>\n",
       "      <td>0.952552</td>\n",
       "      <td>0.075299</td>\n",
       "      <td>0.092827</td>\n",
       "      <td>0.891298</td>\n",
       "      <td>0.951856</td>\n",
       "      <td>0.852303</td>\n",
       "      <td>0.806806</td>\n",
       "      <td>0.759591</td>\n",
       "    </tr>\n",
       "    <tr>\n",
       "      <th>1</th>\n",
       "      <td>Decision Tree</td>\n",
       "      <td>0.922895</td>\n",
       "      <td>0.076707</td>\n",
       "      <td>0.086498</td>\n",
       "      <td>0.888728</td>\n",
       "      <td>0.913417</td>\n",
       "      <td>0.873412</td>\n",
       "      <td>0.803027</td>\n",
       "      <td>0.777273</td>\n",
       "    </tr>\n",
       "    <tr>\n",
       "      <th>2</th>\n",
       "      <td>Random Forest</td>\n",
       "      <td>0.970873</td>\n",
       "      <td>0.009852</td>\n",
       "      <td>0.056962</td>\n",
       "      <td>0.982005</td>\n",
       "      <td>0.973658</td>\n",
       "      <td>0.912903</td>\n",
       "      <td>0.975247</td>\n",
       "      <td>0.854479</td>\n",
       "    </tr>\n",
       "    <tr>\n",
       "      <th>3</th>\n",
       "      <td>Gradient Boosting</td>\n",
       "      <td>0.967695</td>\n",
       "      <td>0.008445</td>\n",
       "      <td>0.052743</td>\n",
       "      <td>0.986178</td>\n",
       "      <td>0.974329</td>\n",
       "      <td>0.927773</td>\n",
       "      <td>0.978724</td>\n",
       "      <td>0.866216</td>\n",
       "    </tr>\n",
       "    <tr>\n",
       "      <th>4</th>\n",
       "      <td>SVM</td>\n",
       "      <td>0.971759</td>\n",
       "      <td>0.028149</td>\n",
       "      <td>0.061181</td>\n",
       "      <td>0.962201</td>\n",
       "      <td>0.970550</td>\n",
       "      <td>0.917174</td>\n",
       "      <td>0.928917</td>\n",
       "      <td>0.844753</td>\n",
       "    </tr>\n",
       "  </tbody>\n",
       "</table>\n",
       "</div>"
      ],
      "text/plain": [
       "            model_name  cv_test_auc  training_mis_rate  test_mis_rate  \\\n",
       "0  Logistic Regression     0.952552           0.075299       0.092827   \n",
       "1        Decision Tree     0.922895           0.076707       0.086498   \n",
       "2        Random Forest     0.970873           0.009852       0.056962   \n",
       "3    Gradient Boosting     0.967695           0.008445       0.052743   \n",
       "4                  SVM     0.971759           0.028149       0.061181   \n",
       "\n",
       "   training_auc  test_auc  balanced_acc_test  mcc_train  mcc_tets  \n",
       "0      0.891298  0.951856           0.852303   0.806806  0.759591  \n",
       "1      0.888728  0.913417           0.873412   0.803027  0.777273  \n",
       "2      0.982005  0.973658           0.912903   0.975247  0.854479  \n",
       "3      0.986178  0.974329           0.927773   0.978724  0.866216  \n",
       "4      0.962201  0.970550           0.917174   0.928917  0.844753  "
      ]
     },
     "execution_count": 61,
     "metadata": {},
     "output_type": "execute_result"
    }
   ],
   "source": [
    "balanced_acc_test_svm = balanced_accuracy_score(y_test, y_predict_svm_label)\n",
    "mcc_train_svm = matthews_corrcoef(y_train, svm.predict(x_train_scaled))\n",
    "mcc_test_svm = matthews_corrcoef(y_test, y_predict_svm_label)\n",
    "\n",
    "print(f\"Balanced ACC Test {balanced_acc_test_svm}\\\n",
    "      MCC train: {mcc_train_svm} MCC test: {mcc_test_svm}\")\n",
    "\n",
    "\n",
    "final_results.loc[len(final_results.index)] = [\n",
    "    'SVM',\n",
    "    gs_results_svm['best_score'][0],\n",
    "    miss_rate_svm_train,\n",
    "    mis_rate_svm,\n",
    "    auc_svm_train,\n",
    "    auc_svm,    \n",
    "    balanced_acc_test_svm,\n",
    "    mcc_train_svm,\n",
    "    mcc_test_svm\n",
    "]\n",
    "\n",
    "final_results"
   ]
  }
 ],
 "metadata": {
  "kernelspec": {
   "display_name": "teachopencadd",
   "language": "python",
   "name": "python3"
  },
  "language_info": {
   "codemirror_mode": {
    "name": "ipython",
    "version": 3
   },
   "file_extension": ".py",
   "mimetype": "text/x-python",
   "name": "python",
   "nbconvert_exporter": "python",
   "pygments_lexer": "ipython3",
   "version": "3.8.19"
  }
 },
 "nbformat": 4,
 "nbformat_minor": 2
}
